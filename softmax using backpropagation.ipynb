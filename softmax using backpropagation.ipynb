{
 "cells": [
  {
   "cell_type": "code",
   "execution_count": 1,
   "metadata": {
    "collapsed": false
   },
   "outputs": [],
   "source": [
    "import cPickle\n",
    "import numpy as np\n",
    "import matplotlib.pyplot as plt\n",
    "from IPython.display import display, Image\n",
    "from scipy import ndimage\n",
    "from sklearn import preprocessing\n",
    "\n",
    "# Config the matlotlib backend as plotting inline in IPython\n",
    "%matplotlib inline"
   ]
  },
  {
   "cell_type": "code",
   "execution_count": 28,
   "metadata": {
    "collapsed": true
   },
   "outputs": [],
   "source": [
    "## Owing to KxN structure of the dot product, bias should be of the shape Kx1\n",
    "def softmax(features,coefficients,bias,include_bias=0):\n",
    "    ## Here the shape of the dot product is tranposed so as to allow efficient subtraction    \n",
    "    dp = np.dot(features,coefficients).transpose().astype('float32') + include_bias*bias\n",
    "    const = np.max(dp,axis=0)\n",
    "    return np.exp(dp-const)/np.sum(np.exp(dp-const),axis=0)"
   ]
  },
  {
   "cell_type": "code",
   "execution_count": 31,
   "metadata": {
    "collapsed": true
   },
   "outputs": [],
   "source": [
    "def logistic_regression(features,coefficients,labels,step_size=0.001,max_iter=1000):\n",
    "    coeff_dim = np.shape(coefficients)\n",
    "    features_dim = np.shape(features)\n",
    "    bias = np.ones((1,coeff_dim[1]))\n",
    "    features_bias = np.ones((features_dim[0],1))\n",
    "    print np.shape(features_bias)\n",
    "    print features_dim\n",
    "    \n",
    "    coefficients_with_bias = np.vstack((bias,coefficients))\n",
    "    features_with_bias = np.hstack((features_bias,features))\n",
    "    print features_with_bias\n",
    "    coeff_dim = np.shape(coefficients_with_bias)\n",
    "    features_dim = np.shape(features_bias)\n",
    "        \n",
    "    for _ in range(1000):\n",
    "        ## softmax probabilities - shape (KxN)\n",
    "        probs = softmax(features_with_bias,coefficients_with_bias,bias.T)\n",
    "\n",
    "        ## backpropagation\n",
    "        probs[labels,range(features_dim[0])] = probs[labels,range(features_dim[0])] - 1\n",
    "        coefficients_with_bias = coefficients_with_bias - step_size*(np.dot(features_with_bias.T,probs.T))\n",
    "    \n",
    "    return coefficients_with_bias"
   ]
  },
  {
   "cell_type": "code",
   "execution_count": 22,
   "metadata": {
    "collapsed": false
   },
   "outputs": [
    {
     "name": "stdout",
     "output_type": "stream",
     "text": [
      "[[  6.03293347e-06   7.57565233e-10]\n",
      " [  1.21174700e-04   1.52161022e-08]\n",
      " [  1.79839209e-02   9.11051116e-04]\n",
      " [  9.81888831e-01   9.99088883e-01]]\n"
     ]
    }
   ],
   "source": [
    "x = np.array([[1,2,3,4],[4,5,6,7],[7,7,9,10]])\n",
    "y = np.array([[1,2,1],[2,1,4]])\n",
    "b = np.ones((4,1))\n",
    "z = softmax(y,x,b)\n",
    "print z"
   ]
  },
  {
   "cell_type": "code",
   "execution_count": 32,
   "metadata": {
    "collapsed": false
   },
   "outputs": [
    {
     "name": "stdout",
     "output_type": "stream",
     "text": [
      "(2L, 1L)\n",
      "(2L, 3L)\n",
      "[[ 1.  1.  2.  1.]\n",
      " [ 1.  2.  1.  4.]]\n",
      "[[ 1.91480233  1.27502044  0.64658281  0.16359442]\n",
      " [ 1.91212418  2.78208909  2.50479708  2.80098965]\n",
      " [ 5.83228281  5.04297223  5.43495135  5.68979361]\n",
      " [ 7.90676788  8.79622639  8.22122561  8.07578012]]\n"
     ]
    }
   ],
   "source": [
    "#labels = np.random.random_integers(low=0,high=1,size=2)\n",
    "labels = [0,1]\n",
    "print logistic_regression(y,x,labels)"
   ]
  },
  {
   "cell_type": "code",
   "execution_count": 103,
   "metadata": {
    "collapsed": true
   },
   "outputs": [],
   "source": [
    "## features - NxD\n",
    "#  coefficients - DxK\n",
    "#  lables - Nx1\n",
    "def logistic_regression_inclusive_bias(features,coefficients,labels,step_size=0.001,max_iter=1000,lamda=0.1):\n",
    "    coeff_dim = np.shape(coefficients)\n",
    "    features_dim = np.shape(features)\n",
    "    bias = np.ones((coeff_dim[1],1))\n",
    "    \n",
    "    for _ in range(max_iter):\n",
    "        ## softmax probabilities - shape (KxN)\n",
    "        probs = softmax(features,coefficients,bias,include_bias=1)\n",
    "\n",
    "        ## backpropagation\n",
    "        probs[labels,range(features_dim[0])] = probs[labels,range(features_dim[0])] - 1\n",
    "        #probs /= features_dim[0] \n",
    "        coefficients = coefficients - step_size*(np.dot(features.T,probs.T) + 2*lamda*coefficients)\n",
    "    \n",
    "    return coefficients"
   ]
  },
  {
   "cell_type": "code",
   "execution_count": 79,
   "metadata": {
    "collapsed": true
   },
   "outputs": [],
   "source": [
    "# Here the inputs coefficients and features should satisfy the dimensionality matching criteria \n",
    "def compute_accuracy(coefficients,features,output_labels):\n",
    "    ''' coefficients = (num_features,num_classes)\n",
    "        features = (num_inputs,num_features)\n",
    "        prediction_dot_product = (num_inputs,num_classes)\n",
    "        Thus, we have to find the index of the class with maximum score in axis=0\n",
    "        '''\n",
    "    features_dim = np.shape(features)\n",
    "    prediction = np.argmax(np.dot(features,model),axis=1)\n",
    "    accuracy = (prediction==output_labels)\n",
    "    return np.sum(accuracy,dtype='float32')*100/features_dim[0]"
   ]
  },
  {
   "cell_type": "code",
   "execution_count": 46,
   "metadata": {
    "collapsed": false
   },
   "outputs": [
    {
     "name": "stdout",
     "output_type": "stream",
     "text": [
      "[[ 1.65654745  2.33628263  2.00515509  2.1891586 ]\n",
      " [ 4.96060011  4.16082751  4.38997593  4.50031274]\n",
      " [ 6.56211608  7.31682259  6.66433085  6.47430491]]\n"
     ]
    }
   ],
   "source": [
    "print logistic_regression_inclusive_bias(y,x,labels,lamda=0.1)"
   ]
  },
  {
   "cell_type": "markdown",
   "metadata": {
    "collapsed": true
   },
   "source": [
    "## Multinomial Regression over MNIST"
   ]
  },
  {
   "cell_type": "code",
   "execution_count": 2,
   "metadata": {
    "collapsed": true
   },
   "outputs": [],
   "source": [
    "with open(\"G:\\Miscellaneous\\python\\Utilities\\Datasets\\mnist.pkl\",'rb') as mnist_file:\n",
    "    train_data,valid_data,test_data = cPickle.load(mnist_file)"
   ]
  },
  {
   "cell_type": "code",
   "execution_count": 3,
   "metadata": {
    "collapsed": false
   },
   "outputs": [
    {
     "name": "stdout",
     "output_type": "stream",
     "text": [
      "4\n"
     ]
    },
    {
     "data": {
      "image/png": "[encoded data removed]",
      "text/plain": [
       "<matplotlib.figure.Figure at 0xad7ec18>"
      ]
     },
     "metadata": {},
     "output_type": "display_data"
    }
   ],
   "source": [
    "## In this block we are shuffling the data to avoid any classification bias\n",
    "train_vec_in,train_label_out = train_data\n",
    "permutation = np.random.permutation(train_vec_in.shape[0])\n",
    "train_vec_in = train_vec_in[permutation,:]\n",
    "train_reshape = np.reshape(train_vec_in,newshape=[50000,28,28])\n",
    "train_label_out = train_label_out[permutation]\n",
    "\n",
    "plt.imshow(train_reshape[3],cmap='gray')\n",
    "print train_label_out[3]"
   ]
  },
  {
   "cell_type": "code",
   "execution_count": 4,
   "metadata": {
    "collapsed": true
   },
   "outputs": [],
   "source": [
    "valid_features,valid_labels = valid_data\n",
    "test_features,test_labels = test_data"
   ]
  },
  {
   "cell_type": "code",
   "execution_count": 226,
   "metadata": {
    "collapsed": true
   },
   "outputs": [],
   "source": [
    "def feature_scaling(features):\n",
    "    std = np.std(features,axis=0)\n",
    "    ind = np.where(std == 0)\n",
    "    std[ind] = 1\n",
    "    return (features-np.mean(features,axis=0))/std"
   ]
  },
  {
   "cell_type": "code",
   "execution_count": 113,
   "metadata": {
    "collapsed": true
   },
   "outputs": [],
   "source": [
    "classes = set(train_label_out)\n",
    "step_size = 1e-4\n",
    "coefficients = np.zeros(shape=(np.shape(train_vec_in)[1],len(classes)))\n",
    "model = logistic_regression_inclusive_bias(train_vec_in,coefficients,train_label_out,step_size,max_iter=100,lamda=0.1)"
   ]
  },
  {
   "cell_type": "code",
   "execution_count": 115,
   "metadata": {
    "collapsed": false
   },
   "outputs": [
    {
     "name": "stdout",
     "output_type": "stream",
     "text": [
      "Accuracy on Training Set is 90.426%\n",
      "Accuracy on Test Set is 91.04%\n",
      "Accuracy on Validation Set is 91.3%\n"
     ]
    }
   ],
   "source": [
    "print \"Accuracy on Training Set is {}%\".format(compute_accuracy(model,train_vec_in,train_label_out))\n",
    "print \"Accuracy on Test Set is {}%\".format(compute_accuracy(model,test_features,test_labels))\n",
    "print \"Accuracy on Validation Set is {}%\".format(compute_accuracy(model,valid_features,valid_labels))"
   ]
  },
  {
   "cell_type": "code",
   "execution_count": 75,
   "metadata": {
    "collapsed": false
   },
   "outputs": [
    {
     "name": "stdout",
     "output_type": "stream",
     "text": [
      "(10000L, 784L)\n",
      "(10000L,)\n"
     ]
    }
   ],
   "source": [
    "print np.shape(test_features)\n",
    "print np.shape(test_labels)"
   ]
  },
  {
   "cell_type": "markdown",
   "metadata": {},
   "source": [
    "## 2-Layer Neural Network using ReLUs"
   ]
  },
  {
   "cell_type": "code",
   "execution_count": 5,
   "metadata": {
    "collapsed": false
   },
   "outputs": [],
   "source": [
    "def confusion_matrix(predicted_outcome,labels):\n",
    "    classes = set(labels)\n",
    "    num_classes = len(classes)\n",
    "    conf_mat = np.zeros((num_classes,num_classes))\n",
    "    for i in classes:\n",
    "        for j in classes:\n",
    "            conf_mat[i,j] = len(np.where((labels == i) & (predicted_outcome == j))[0])\n",
    "    \n",
    "    false_positives = np.sum(conf_mat,axis=0)\n",
    "    false_negatives = np.sum(conf_mat,axis=1)\n",
    "    precision = np.array([conf_mat[i,i]/false_positives[i] for i in range(10)])\n",
    "    recall = np.array([conf_mat[i,i]/false_negatives[i] for i in range(10)])\n",
    "    return precision,recall"
   ]
  },
  {
   "cell_type": "code",
   "execution_count": 6,
   "metadata": {
    "collapsed": true
   },
   "outputs": [],
   "source": [
    "def two_layer_nn(features,labels,valid_features,valid_labels,hidden_sz=100,lamda=0.001,step_size=1,max_iter=100):\n",
    "    features_dim= np.shape(features)\n",
    "    classes = set(labels)\n",
    "    coeff_1 = 0.01 * np.random.randn(features_dim[1],hidden_sz)/(np.sqrt(features_dim[1]))\n",
    "    coeff_2 = 0.01 * np.random.randn(hidden_sz,len(classes))/(np.sqrt(hidden_sz))\n",
    "\n",
    "    coeff1_dim = np.shape(coeff_1)    \n",
    "    coeff2_dim = np.shape(coeff_2)\n",
    "    bias_1 = 0.01 * np.random.randn(1,coeff1_dim[1])\n",
    "    bias_2 = 0.01 * np.random.randn(1,coeff2_dim[1])\n",
    "    #bias_1 = np.zeros((1,coeff1_dim[1]))\n",
    "    #bias_2 = np.zeros((1,coeff2_dim[1]))\n",
    "\n",
    "    tot_cost = []\n",
    "    \n",
    "    print 'Training model for lamda:%.4f, and step_size: %.4f' % (lamda,step_size)\n",
    "    \n",
    "    for _ in xrange(max_iter):\n",
    "        #### Layer - 1 ####\n",
    "        reLU = np.maximum(0,np.dot(features,coeff_1) + bias_1)   # reLU - shape (Nxh)\n",
    "\n",
    "        ## without equalization ##\n",
    "        #l2_scores = np.dot(reLU,coeff_2) + bias_2  # [NxK]\n",
    "        #exp_scores = np.exp(l2_scores)\n",
    "        #probs_scores = exp_scores/np.sum(exp_scores,axis=1,keepdims=True)  # probs - shape(NxK)\n",
    "\n",
    "        ## with max-equalization ##\n",
    "        l2_scores = np.transpose(np.dot(reLU,coeff_2) + bias_2) # [KxN]\n",
    "        l2_scores_max = np.max(l2_scores,axis=0) # [1xN]\n",
    "        exp_scores = np.exp(l2_scores-l2_scores_max)\n",
    "        probs_scores = exp_scores/np.sum(exp_scores,axis=0,keepdims=True)  # probs - shape(KxN)\n",
    "\n",
    "        ## Loss computation\n",
    "        tot_cost.append(-np.sum(probs_scores[labels,range(features_dim[0])])/features_dim[0])\n",
    "        \n",
    "        # backpropagation\n",
    "        probs = np.transpose(probs_scores) # shape - NxK\n",
    "        probs[range(features_dim[0]),labels] -= 1\n",
    "        probs /= features_dim[0]\n",
    "\n",
    "        dcoeff_2 = np.dot(reLU.T,probs)   # dcoeff_2 - shape(hxK)\n",
    "        dbias_2 = np.sum(probs, axis=0, keepdims=True)\n",
    "        dhidden_layer = np.dot(probs,coeff_2.T)   # dhidden - shape(Nxh)\n",
    "        dhidden_layer[reLU <= 0] = 0\n",
    "        dcoeff_1 = np.dot(features.T,dhidden_layer)\n",
    "        dbias_1 = np.sum(dhidden_layer, axis=0, keepdims=True)\n",
    "\n",
    "        coeff_2 += -step_size*(dcoeff_2 + lamda*coeff_2)  # coeff_2 - shape(hxK)\n",
    "        coeff_1 += -step_size*(dcoeff_1 + lamda*coeff_1)  # coeff_1 - shape(Dxh)\n",
    "        bias_1 += -step_size * dbias_1\n",
    "        bias_2 += -step_size * dbias_2\n",
    "        \n",
    "    ##### Training Data accuracy #####\n",
    "    hidden_layer_train = np.maximum(0,np.dot(features,coeff_1)+bias_1)\n",
    "    scores_train = np.dot(hidden_layer_train,coeff_2)+bias_2\n",
    "    predicted_class_train = np.argmax(scores_train, axis=1)\n",
    "    print 'training accuracy: %.2f' % (np.mean(predicted_class_train == labels))\n",
    "    #precision_train,recall_train = confusion_matrix(predicted_class_train,labels)\n",
    "    #print 'training mean precision: %.4f, mean recall: %.4f' % (np.mean(precision_train),np.mean(recall_train))\n",
    "\n",
    "    ##### Validation Data accuracy #####\n",
    "    hidden_layer_valid = np.maximum(0,np.dot(valid_features,coeff_1)+bias_1)\n",
    "    scores_valid = np.dot(hidden_layer_valid,coeff_2)+bias_2\n",
    "    predicted_class_valid = np.argmax(scores_valid,axis=1)\n",
    "    print 'validation accuracy: %.2f' % (np.mean(predicted_class_valid == valid_labels))\n",
    "    #precision_valid,recall_valid = confusion_matrix(predicted_class_valid,valid_labels)\n",
    "    #print 'validation mean precision: %.4f, mean recall: %.4f' % (np.mean(precision_valid),np.mean(recall_valid))   \n",
    "        \n",
    "    return coeff_1,bias_1,coeff_2,bias_2,tot_cost"
   ]
  },
  {
   "cell_type": "code",
   "execution_count": 7,
   "metadata": {
    "collapsed": false
   },
   "outputs": [
    {
     "name": "stdout",
     "output_type": "stream",
     "text": [
      "[  1.00000000e-04   5.99484250e-04   3.59381366e-03   2.15443469e-02\n",
      "   1.29154967e-01   7.74263683e-01   4.64158883e+00   2.78255940e+01\n",
      "   1.66810054e+02   1.00000000e+03]\n"
     ]
    }
   ],
   "source": [
    "print np.logspace(-4,3,num=10)"
   ]
  },
  {
   "cell_type": "code",
   "execution_count": 120,
   "metadata": {
    "collapsed": false
   },
   "outputs": [
    {
     "name": "stdout",
     "output_type": "stream",
     "text": [
      "Training model for lamda:0.0001, and step_size: 1.0000\n",
      "training accuracy: 0.91\n",
      "training mean precision: 0.9105, mean recall: 0.9048\n",
      "validation accuracy: 0.92\n",
      "validation mean precision: 0.9222, mean recall: 0.9177\n",
      "Training model for lamda:0.0002, and step_size: 1.0000\n",
      "training accuracy: 0.91\n",
      "training mean precision: 0.9104, mean recall: 0.9053\n",
      "validation accuracy: 0.92\n",
      "validation mean precision: 0.9199, mean recall: 0.9165\n",
      "Training model for lamda:0.0005, and step_size: 1.0000\n",
      "training accuracy: 0.92\n",
      "training mean precision: 0.9213, mean recall: 0.9208\n",
      "validation accuracy: 0.93\n",
      "validation mean precision: 0.9282, mean recall: 0.9275\n",
      "Training model for lamda:0.0010, and step_size: 1.0000\n",
      "training accuracy: 0.92\n",
      "training mean precision: 0.9216, mean recall: 0.9215\n",
      "validation accuracy: 0.93\n",
      "validation mean precision: 0.9299, mean recall: 0.9294\n"
     ]
    }
   ],
   "source": [
    "''' Trained the model using the Grid Search Technique for Lamda.\n",
    "Given the randomness in weight initialization - lamda should be given in range (0.0001,0.001)'''\n",
    "#lamda = np.logspace(-4,0,num=10)\n",
    "lamda = np.logspace(-4,-3,num=4)\n",
    "for elem in lamda:\n",
    "    coeff_1,bias_1,coeff_2,bias_2 = two_layer_nn(features,labels,valid_features,valid_labels, \\\n",
    "                                             hidden_sz=100,lamda=elem,step_size=1,max_iter=50)"
   ]
  },
  {
   "cell_type": "code",
   "execution_count": 128,
   "metadata": {
    "collapsed": false
   },
   "outputs": [
    {
     "name": "stdout",
     "output_type": "stream",
     "text": [
      "Training model for lamda:0.0005, and step_size: 0.1000\n",
      "training accuracy: 0.77\n",
      "training mean precision: 0.7779, mean recall: 0.7670\n",
      "validation accuracy: 0.80\n",
      "validation mean precision: 0.8016, mean recall: 0.7903\n",
      "Training model for lamda:0.0005, and step_size: 0.5000\n",
      "training accuracy: 0.90\n",
      "training mean precision: 0.9016, mean recall: 0.9012\n",
      "validation accuracy: 0.91\n",
      "validation mean precision: 0.9096, mean recall: 0.9097\n",
      "Training model for lamda:0.0005, and step_size: 1.0000\n",
      "training accuracy: 0.90\n",
      "training mean precision: 0.9066, mean recall: 0.9030\n",
      "validation accuracy: 0.91\n",
      "validation mean precision: 0.9156, mean recall: 0.9133\n",
      "Training model for lamda:0.0005, and step_size: 1.5000\n",
      "training accuracy: 0.31\n",
      "training mean precision: nan, mean recall: 0.2962\n",
      "validation accuracy: 0.30\n",
      "validation mean precision: nan, mean recall: 0.3002\n",
      "Training model for lamda:0.0005, and step_size: 2.0000\n"
     ]
    },
    {
     "name": "stderr",
     "output_type": "stream",
     "text": [
      "C:\\ProgramData\\Anaconda2\\lib\\site-packages\\ipykernel\\__main__.py:11: RuntimeWarning: invalid value encountered in double_scalars\n"
     ]
    },
    {
     "name": "stdout",
     "output_type": "stream",
     "text": [
      "training accuracy: 0.11\n",
      "training mean precision: nan, mean recall: 0.1001\n",
      "validation accuracy: 0.11\n",
      "validation mean precision: nan, mean recall: 0.1002\n",
      "Training model for lamda:0.0005, and step_size: 2.5000\n",
      "training accuracy: 0.11\n",
      "training mean precision: nan, mean recall: 0.1000\n",
      "validation accuracy: 0.11\n",
      "validation mean precision: nan, mean recall: 0.1000\n",
      "Training model for lamda:0.0005, and step_size: 3.0000\n",
      "training accuracy: 0.11\n",
      "training mean precision: nan, mean recall: 0.1000\n",
      "validation accuracy: 0.11\n",
      "validation mean precision: nan, mean recall: 0.1000\n",
      "Training model for lamda:0.0005, and step_size: 5.0000\n",
      "training accuracy: 0.12\n",
      "training mean precision: nan, mean recall: 0.1074\n",
      "validation accuracy: 0.11\n",
      "validation mean precision: nan, mean recall: 0.1083\n",
      "Training model for lamda:0.0005, and step_size: 7.5000\n",
      "training accuracy: 0.11\n",
      "training mean precision: nan, mean recall: 0.1000\n",
      "validation accuracy: 0.11\n",
      "validation mean precision: nan, mean recall: 0.1000\n",
      "Training model for lamda:0.0005, and step_size: 10.0000\n",
      "training accuracy: 0.11\n",
      "training mean precision: nan, mean recall: 0.1000\n",
      "validation accuracy: 0.11\n",
      "validation mean precision: nan, mean recall: 0.1000\n"
     ]
    }
   ],
   "source": [
    "## Here using lamda = 0.0005, we'll do a grid sweep for Step Size. \n",
    "# Reducing the step_size will require more number of iterations for optimization\n",
    "step_size = [0.1,0.5,1,1.5,2,2.5,3,5,7.5,10]\n",
    "for step in step_size:\n",
    "    coeff_1,bias_1,coeff_2,bias_2 = two_layer_nn(features,labels,valid_features,valid_labels, \\\n",
    "                                             hidden_sz=100,lamda=0.0005,step_size=step,max_iter=50)"
   ]
  },
  {
   "cell_type": "code",
   "execution_count": 8,
   "metadata": {
    "collapsed": false
   },
   "outputs": [
    {
     "name": "stdout",
     "output_type": "stream",
     "text": [
      "Training model for lamda:0.0010, and step_size: 1.0000\n",
      "training accuracy: 0.97\n",
      "validation accuracy: 0.96\n",
      "test accuracy: 0.96\n",
      "test mean precision: 0.9620, mean recall: 0.9615\n"
     ]
    }
   ],
   "source": [
    "coeff_1,bias_1,coeff_2,bias_2,tot_cost = two_layer_nn(train_vec_in,train_label_out,valid_features,valid_labels, \\\n",
    "                                             hidden_sz=100,lamda=0.001,step_size=1,max_iter=2000)\n",
    "\n",
    "##### Test Data accuracy #####\n",
    "hidden_layer_test = np.maximum(0,np.dot(test_features,coeff_1)+bias_1)\n",
    "scores_test = np.dot(hidden_layer_test,coeff_2)+bias_2\n",
    "predicted_class_test = np.argmax(scores_test,axis=1)\n",
    "print 'test accuracy: %.2f' % (np.mean(predicted_class_test == test_labels))\n",
    "precision_test,recall_test= confusion_matrix(predicted_class_test,test_labels)\n",
    "print 'test mean precision: %.4f, mean recall: %.4f' % (np.mean(precision_test),np.mean(recall_test))"
   ]
  },
  {
   "cell_type": "code",
   "execution_count": 27,
   "metadata": {
    "collapsed": false
   },
   "outputs": [
    {
     "data": {
      "image/png": "[encoded data removed]",
      "text/plain": [
       "<matplotlib.figure.Figure at 0xb7109b0>"
      ]
     },
     "metadata": {},
     "output_type": "display_data"
    }
   ],
   "source": [
    "plt.plot(tot_cost)\n",
    "plt.show()"
   ]
  },
  {
   "cell_type": "code",
   "execution_count": 253,
   "metadata": {
    "collapsed": true
   },
   "outputs": [],
   "source": [
    "train_scaled = feature_scaling(train_vec_in)"
   ]
  },
  {
   "cell_type": "code",
   "execution_count": 104,
   "metadata": {
    "collapsed": false
   },
   "outputs": [],
   "source": [
    "features = train_vec_in\n",
    "hidden_sz = 100\n",
    "classes = set(train_label_out)\n",
    "features_dim = np.shape(features)\n",
    "labels = train_label_out\n",
    "lamda = 0.001\n",
    "step_size = 1\n",
    "\n",
    "coeff_1 = 0.01 * np.random.randn(features_dim[1],hidden_sz)\n",
    "coeff_2 = 0.01 * np.random.randn(hidden_sz,len(classes))\n",
    "    \n",
    "coeff1_dim = np.shape(coeff_1)    \n",
    "coeff2_dim = np.shape(coeff_2)\n",
    "bias_1 = np.zeros((1,coeff1_dim[1]))\n",
    "bias_2 = np.zeros((1,coeff2_dim[1]))\n",
    "    \n",
    "for _ in xrange(100):\n",
    "    #### Layer - 1 ####\n",
    "    reLU = np.maximum(0,np.dot(features,coeff_1) + bias_1)   # reLU - shape (Nxh)\n",
    "    \n",
    "    ## without equalization ##\n",
    "    #l2_scores = np.dot(reLU,coeff_2) + bias_2  # [NxK]\n",
    "    #exp_scores = np.exp(l2_scores)\n",
    "    #probs_scores = exp_scores/np.sum(exp_scores,axis=1,keepdims=True)  # probs - shape(NxK)\n",
    "\n",
    "    ## with max-equalization ##\n",
    "    l2_scores = np.transpose(np.dot(reLU,coeff_2) + bias_2) # [KxN]\n",
    "    l2_scores_max = np.max(l2_scores,axis=0) # [1xN]\n",
    "    exp_scores = np.exp(l2_scores-l2_scores_max)\n",
    "    probs_scores = exp_scores/np.sum(exp_scores,axis=0,keepdims=True)  # probs - shape(KxN)\n",
    "    \n",
    "    # backpropagation\n",
    "    probs = np.transpose(probs_scores) # shape - NxK\n",
    "    probs[range(features_dim[0]),labels] -= 1\n",
    "    probs /= features_dim[0]\n",
    "\n",
    "    dcoeff_2 = np.dot(reLU.T,probs)   # dcoeff_2 - shape(hxK)\n",
    "    dbias_2 = np.sum(probs, axis=0, keepdims=True)\n",
    "    dhidden_layer = np.dot(probs,coeff_2.T)   # dhidden - shape(Nxh)\n",
    "    dhidden_layer[reLU <= 0] = 0\n",
    "    dcoeff_1 = np.dot(features.T,dhidden_layer)\n",
    "    dbias_1 = np.sum(dhidden_layer, axis=0, keepdims=True)\n",
    "\n",
    "    coeff_2 += -step_size*(dcoeff_2 + lamda*coeff_2)  # coeff_2 - shape(hxK)\n",
    "    coeff_1 += -step_size*(dcoeff_1 + lamda*coeff_1)  # coeff_1 - shape(Dxh)\n",
    "    bias_1 += -step_size * dbias_1\n",
    "    bias_2 += -step_size * dbias_2"
   ]
  },
  {
   "cell_type": "code",
   "execution_count": 38,
   "metadata": {
    "collapsed": false
   },
   "outputs": [
    {
     "name": "stdout",
     "output_type": "stream",
     "text": [
      "(10L, 50000L)\n",
      "(50000L,)\n",
      "(10L, 50000L)\n",
      "(10L, 50000L)\n",
      "(50000L, 10L)\n",
      "(1L, 50000L)\n"
     ]
    }
   ],
   "source": [
    "print np.shape(l2_scores)\n",
    "print np.shape(l2_scores_max)\n",
    "print np.shape(exp_scores)\n",
    "print np.shape(probs_scores)\n",
    "print np.shape(probs)\n",
    "print np.shape(np.sum(exp_scores,axis=0,keepdims=True))"
   ]
  },
  {
   "cell_type": "code",
   "execution_count": 105,
   "metadata": {
    "collapsed": false
   },
   "outputs": [
    {
     "name": "stdout",
     "output_type": "stream",
     "text": [
      "training accuracy: 0.90\n",
      "training mean precision: 0.9068, mean recall: 0.9028\n",
      "validation accuracy: 0.91\n",
      "validation mean precision: 0.9154, mean recall: 0.9114\n",
      "test accuracy: 0.91\n",
      "test mean precision: 0.9093, mean recall: 0.9055\n"
     ]
    }
   ],
   "source": [
    "##### Training Data accuracy #####\n",
    "hidden_layer_1 = np.maximum(0,np.dot(train_vec_in,coeff_1)+bias_1)\n",
    "scores_1 = np.dot(hidden_layer_1,coeff_2)+bias_2\n",
    "predicted_class_1 = np.argmax(scores_1, axis=1)\n",
    "print 'training accuracy: %.2f' % (np.mean(predicted_class_1 == train_label_out))\n",
    "precision_train,recall_train = confusion_matrix(predicted_class_1,train_label_out)\n",
    "print 'training mean precision: %.4f, mean recall: %.4f' % (np.mean(precision_train),np.mean(recall_train))\n",
    "\n",
    "##### Validation Data accuracy #####\n",
    "hidden_layer_valid = np.maximum(0,np.dot(valid_features,coeff_1)+bias_1)\n",
    "scores_valid = np.dot(hidden_layer_valid,coeff_2)+bias_2\n",
    "predicted_class_valid = np.argmax(scores_valid,axis=1)\n",
    "print 'validation accuracy: %.2f' % (np.mean(predicted_class_valid == valid_labels))\n",
    "precision_valid,recall_valid = confusion_matrix(predicted_class_valid,valid_labels)\n",
    "print 'validation mean precision: %.4f, mean recall: %.4f' % (np.mean(precision_valid),np.mean(recall_valid))\n",
    "\n",
    "##### Test Data accuracy #####\n",
    "hidden_layer_test = np.maximum(0,np.dot(test_features,coeff_1)+bias_1)\n",
    "scores_test = np.dot(hidden_layer_test,coeff_2)+bias_2\n",
    "predicted_class_test = np.argmax(scores_test,axis=1)\n",
    "print 'test accuracy: %.2f' % (np.mean(predicted_class_test == test_labels))\n",
    "precision_test,recall_test= confusion_matrix(predicted_class_test,test_labels)\n",
    "print 'test mean precision: %.4f, mean recall: %.4f' % (np.mean(precision_test),np.mean(recall_test))"
   ]
  },
  {
   "cell_type": "code",
   "execution_count": 390,
   "metadata": {
    "collapsed": false
   },
   "outputs": [
    {
     "name": "stdout",
     "output_type": "stream",
     "text": [
      "(50000L, 100L)\n"
     ]
    }
   ],
   "source": [
    "print np.shape(hidden)"
   ]
  },
  {
   "cell_type": "code",
   "execution_count": 44,
   "metadata": {
    "collapsed": false
   },
   "outputs": [
    {
     "name": "stdout",
     "output_type": "stream",
     "text": [
      "iteration 0: loss 2.302802\n"
     ]
    }
   ],
   "source": [
    "# initialize parameters randomly\n",
    "D = 784\n",
    "K = 10\n",
    "h = 100 # size of hidden layer\n",
    "W = 0.01 * np.random.randn(D,h)\n",
    "b = np.zeros((1,h))\n",
    "W2 = 0.01 * np.random.randn(h,K)\n",
    "b2 = np.zeros((1,K))\n",
    "\n",
    "# some hyperparameters\n",
    "step_size = 1e-0\n",
    "reg = 1e-4 # regularization strength\n",
    "\n",
    "X = train_vec_in\n",
    "y = train_label_out\n",
    "\n",
    "# gradient descent loop\n",
    "num_examples = X.shape[0]\n",
    "for i in xrange(100):\n",
    "    # evaluate class scores, [N x K]\n",
    "    hidden_layer = np.maximum(0, np.dot(X, W) + b) # note, ReLU activation\n",
    "    scores = np.dot(hidden_layer, W2) + b2\n",
    "  \n",
    "    # compute the class probabilities\n",
    "    exp_scores = np.exp(scores)\n",
    "    probs = exp_scores / np.sum(exp_scores, axis=1, keepdims=True) # [N x K]\n",
    "  \n",
    "    # compute the loss: average cross-entropy loss and regularization\n",
    "    corect_logprobs = -np.log(probs[range(num_examples),y])\n",
    "    data_loss = np.sum(corect_logprobs)/num_examples\n",
    "    reg_loss = 0.5*reg*np.sum(W*W) + 0.5*reg*np.sum(W2*W2)\n",
    "    loss = data_loss + reg_loss\n",
    "    if i % 1000 == 0:\n",
    "        print \"iteration %d: loss %f\" % (i, loss)\n",
    "  \n",
    "    # compute the gradient on scores\n",
    "    dscores = probs\n",
    "    dscores[range(num_examples),y] -= 1\n",
    "    dscores /= num_examples\n",
    "  \n",
    "    # backpropate the gradient to the parameters\n",
    "    # first backprop into parameters W2 and b2\n",
    "    dW2 = np.dot(hidden_layer.T, dscores)\n",
    "    db2 = np.sum(dscores, axis=0, keepdims=True)\n",
    "    # next backprop into hidden layer\n",
    "    dhidden = np.dot(dscores, W2.T)\n",
    "    # backprop the ReLU non-linearity\n",
    "    dhidden[hidden_layer <= 0] = 0\n",
    "    # finally into W,b\n",
    "    dW = np.dot(X.T, dhidden)\n",
    "    db = np.sum(dhidden, axis=0, keepdims=True)\n",
    "  \n",
    "    # add regularization gradient contribution\n",
    "    dW2 += reg * W2\n",
    "    dW += reg * W\n",
    "  \n",
    "    # perform a parameter update\n",
    "    W += -step_size * dW\n",
    "    b += -step_size * db\n",
    "    W2 += -step_size * dW2\n",
    "    b2 += -step_size * db2"
   ]
  },
  {
   "cell_type": "code",
   "execution_count": 45,
   "metadata": {
    "collapsed": false
   },
   "outputs": [
    {
     "name": "stdout",
     "output_type": "stream",
     "text": [
      "training accuracy: 0.92\n",
      "training mean precision: 0.9148, mean recall: 0.9137\n",
      "validation accuracy: 0.92\n",
      "validation mean precision: 0.9211, mean recall: 0.9202\n",
      "test accuracy: 0.92\n",
      "test mean precision: 0.9205, mean recall: 0.9195\n"
     ]
    }
   ],
   "source": [
    "##### Training Data accuracy #####\n",
    "hidden_layer = np.maximum(0, np.dot(X, W) + b)\n",
    "scores = np.dot(hidden_layer, W2) + b2\n",
    "predicted_class_2 = np.argmax(scores, axis=1)\n",
    "print 'training accuracy: %.2f' % (np.mean(predicted_class_2 == y))\n",
    "precision_train_2,recall_train_2 = confusion_matrix(predicted_class_2,train_label_out)\n",
    "print 'training mean precision: %.4f, mean recall: %.4f' % (np.mean(precision_train_2),np.mean(recall_train_2))\n",
    "\n",
    "##### Validation Data accuracy #####\n",
    "hidden_layer_valid_2 = np.maximum(0,np.dot(valid_features, W) + b)\n",
    "scores_valid_2 = np.dot(hidden_layer_valid_2,W2) + b2\n",
    "predicted_class_valid_2 = np.argmax(scores_valid_2,axis=1)\n",
    "print 'validation accuracy: %.2f' % (np.mean(predicted_class_valid_2 == valid_labels))\n",
    "precision_valid_2,recall_valid_2 = confusion_matrix(predicted_class_valid_2,valid_labels)\n",
    "print 'validation mean precision: %.4f, mean recall: %.4f' % (np.mean(precision_valid_2),np.mean(recall_valid_2))\n",
    "\n",
    "##### Test Data accuracy #####\n",
    "hidden_layer_test_2 = np.maximum(0,np.dot(test_features, W) + b)\n",
    "scores_test_2 = np.dot(hidden_layer_test_2,W2) + b2\n",
    "predicted_class_test_2 = np.argmax(scores_test_2,axis=1)\n",
    "print 'test accuracy: %.2f' % (np.mean(predicted_class_test_2 == test_labels))\n",
    "precision_test_2,recall_test_2= confusion_matrix(predicted_class_test_2,test_labels)\n",
    "print 'test mean precision: %.4f, mean recall: %.4f' % (np.mean(precision_test_2),np.mean(recall_test_2))"
   ]
  },
  {
   "cell_type": "code",
   "execution_count": 100,
   "metadata": {
    "collapsed": false
   },
   "outputs": [
    {
     "name": "stdout",
     "output_type": "stream",
     "text": [
      "0.976418154316\n",
      "0.976314624215\n"
     ]
    }
   ],
   "source": [
    "precision,recall = confusion_matrix(predicted_class_1,train_label_out)\n",
    "print np.mean(precision)\n",
    "print np.mean(recall)"
   ]
  },
  {
   "cell_type": "code",
   "execution_count": 52,
   "metadata": {
    "collapsed": false
   },
   "outputs": [
    {
     "name": "stdout",
     "output_type": "stream",
     "text": [
      "9706\n"
     ]
    }
   ],
   "source": [
    "x = predicted_class_valid == valid_labels\n",
    "y = np.where(x == True)\n",
    "print len(y[0])"
   ]
  },
  {
   "cell_type": "code",
   "execution_count": 51,
   "metadata": {
    "collapsed": false
   },
   "outputs": [
    {
     "name": "stdout",
     "output_type": "stream",
     "text": [
      "Found submodule __check_build (is a package: True)\n",
      "Found submodule _build_utils (is a package: False)\n",
      "Found submodule _isotonic (is a package: False)\n",
      "Found submodule base (is a package: False)\n",
      "Found submodule calibration (is a package: False)\n",
      "Found submodule cluster (is a package: True)\n",
      "Found submodule covariance (is a package: True)\n",
      "Found submodule cross_decomposition (is a package: True)\n",
      "Found submodule cross_validation (is a package: False)\n",
      "Found submodule datasets (is a package: True)\n",
      "Found submodule decomposition (is a package: True)\n",
      "Found submodule discriminant_analysis (is a package: False)\n",
      "Found submodule dummy (is a package: False)\n",
      "Found submodule ensemble (is a package: True)\n",
      "Found submodule externals (is a package: True)\n",
      "Found submodule feature_extraction (is a package: True)\n",
      "Found submodule feature_selection (is a package: True)\n",
      "Found submodule gaussian_process (is a package: True)\n",
      "Found submodule grid_search (is a package: False)\n",
      "Found submodule isotonic (is a package: False)\n",
      "Found submodule kernel_approximation (is a package: False)\n",
      "Found submodule kernel_ridge (is a package: False)\n",
      "Found submodule lda (is a package: False)\n",
      "Found submodule learning_curve (is a package: False)\n",
      "Found submodule linear_model (is a package: True)\n",
      "Found submodule manifold (is a package: True)\n",
      "Found submodule metrics (is a package: True)\n",
      "Found submodule mixture (is a package: True)\n",
      "Found submodule multiclass (is a package: False)\n",
      "Found submodule naive_bayes (is a package: False)\n",
      "Found submodule neighbors (is a package: True)\n",
      "Found submodule neural_network (is a package: True)\n",
      "Found submodule pipeline (is a package: False)\n",
      "Found submodule preprocessing (is a package: True)\n",
      "Found submodule qda (is a package: False)\n",
      "Found submodule random_projection (is a package: False)\n",
      "Found submodule semi_supervised (is a package: True)\n",
      "Found submodule setup (is a package: False)\n",
      "Found submodule svm (is a package: True)\n",
      "Found submodule tests (is a package: True)\n",
      "Found submodule tree (is a package: True)\n",
      "Found submodule utils (is a package: True)\n"
     ]
    }
   ],
   "source": [
    "import pkgutil\n",
    "import sklearn\n",
    "package = sklearn\n",
    "\n",
    "for importer, modname, ispkg in pkgutil.iter_modules(package.__path__):\n",
    "    print \"Found submodule %s (is a package: %s)\" % (modname, ispkg)"
   ]
  },
  {
   "cell_type": "code",
   "execution_count": null,
   "metadata": {
    "collapsed": true
   },
   "outputs": [],
   "source": []
  }
 ],
 "metadata": {
  "kernelspec": {
   "display_name": "Python 2",
   "language": "python",
   "name": "python2"
  },
  "language_info": {
   "codemirror_mode": {
    "name": "ipython",
    "version": 2
   },
   "file_extension": ".py",
   "mimetype": "text/x-python",
   "name": "python",
   "nbconvert_exporter": "python",
   "pygments_lexer": "ipython2",
   "version": "2.7.13"
  }
 },
 "nbformat": 4,
 "nbformat_minor": 2
}
