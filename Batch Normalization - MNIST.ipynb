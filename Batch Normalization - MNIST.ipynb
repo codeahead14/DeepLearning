{
 "cells": [
  {
   "cell_type": "markdown",
   "metadata": {},
   "source": [
    "##  Notes from previous Experiments\n",
    "From cross-validation experiments performed in \"SGD and Neural Networks - MNIST\" Notebook, \n",
    "the following parameters will be used:\n",
    "\n",
    "1. Step_size = 0.75\n",
    "2. lambda = 0.0001"
   ]
  },
  {
   "cell_type": "code",
   "execution_count": 1,
   "metadata": {
    "collapsed": true
   },
   "outputs": [],
   "source": [
    "import cPickle\n",
    "import numpy as np\n",
    "import matplotlib.pyplot as plt\n",
    "from IPython.display import display, Image\n",
    "from scipy import ndimage\n",
    "from sklearn import preprocessing\n",
    "\n",
    "# Config the matlotlib backend as plotting inline in IPython\n",
    "%matplotlib inline"
   ]
  },
  {
   "cell_type": "code",
   "execution_count": 2,
   "metadata": {
    "collapsed": false
   },
   "outputs": [],
   "source": [
    "with open(\"Datasets\\mnist.pkl\",'rb') as mnist_file:\n",
    "    train_data,valid_data,test_data = cPickle.load(mnist_file)"
   ]
  },
  {
   "cell_type": "code",
   "execution_count": 3,
   "metadata": {
    "collapsed": true
   },
   "outputs": [],
   "source": [
    "def smoothing(x,win_sz=30):\n",
    "    smoothing_window = np.ones(win_sz)/win_sz\n",
    "    smooth_func = np.convolve(x,smoothing_window)\n",
    "    return smooth_func[:-win_sz]"
   ]
  },
  {
   "cell_type": "code",
   "execution_count": 4,
   "metadata": {
    "collapsed": false,
    "scrolled": true
   },
   "outputs": [
    {
     "name": "stdout",
     "output_type": "stream",
     "text": [
      "2\n"
     ]
    },
    {
     "data": {
      "image/png": "[encoded data removed]",
      "text/plain": [
       "<matplotlib.figure.Figure at 0x6ab4a58>"
      ]
     },
     "metadata": {},
     "output_type": "display_data"
    }
   ],
   "source": [
    "## In this block we are shuffling the data to avoid any classification bias\n",
    "train_vec_in,train_label_out = train_data\n",
    "permutation = np.random.permutation(train_vec_in.shape[0])\n",
    "train_vec_in = train_vec_in[permutation,:]\n",
    "train_reshape = np.reshape(train_vec_in,newshape=[50000,28,28])\n",
    "train_label_out = train_label_out[permutation]\n",
    "\n",
    "plt.imshow(train_reshape[3],cmap='gray')\n",
    "print train_label_out[3]"
   ]
  },
  {
   "cell_type": "code",
   "execution_count": 5,
   "metadata": {
    "collapsed": true
   },
   "outputs": [],
   "source": [
    "valid_features,valid_labels = valid_data\n",
    "test_features,test_labels = test_data"
   ]
  },
  {
   "cell_type": "markdown",
   "metadata": {},
   "source": [
    "## Feature Visualization"
   ]
  },
  {
   "cell_type": "code",
   "execution_count": 24,
   "metadata": {
    "collapsed": true
   },
   "outputs": [],
   "source": [
    "features = train_vec_in\n",
    "labels = train_label_out\n",
    "epoch = 20\n",
    "batch_sz = 100\n",
    "step_size = 0.75\n",
    "lamda = 0.0001\n",
    "features_dim = np.shape(train_vec_in)\n",
    "num_batches = features_dim[0]/batch_sz\n",
    "classes = set(labels)\n",
    "coeffs = 0.01 * np.random.randn(features_dim[1],len(classes))/(np.sqrt(features_dim[1]))    \n",
    "train_accuracy, valid_accuracy = [],[]\n",
    "    \n",
    "for _ in xrange(1):\n",
    "    for i in xrange(num_batches):\n",
    "        batch_features = features[i*batch_sz:(i+1)*batch_sz]\n",
    "        batch_dim = np.shape(batch_features)\n",
    "        batch_labels = labels[i*batch_sz:(i+1)*batch_sz]\n",
    "        batch_labels_dim = np.shape(batch_labels)\n",
    "        \n",
    "        scores = np.transpose(np.dot(batch_features,coeffs)) # KxN - for the \\\n",
    "                                                    # convenience of finding the max value for each input\n",
    "        max_val = np.max(scores,axis=0) # 1xN\n",
    "        exp_scores = np.exp(scores-max_val)\n",
    "        probs = np.transpose(exp_scores/(np.sum(exp_scores,axis=0,keepdims=True))) # NxK\n",
    "        probs[range(batch_dim[0]),batch_labels] -= 1\n",
    "        probs /= batch_dim[0]\n",
    "            \n",
    "        dcoeff = np.dot(batch_features.T,probs)\n",
    "        coeffs += -step_size*(dcoeff + lamda*coeffs)\n"
   ]
  },
  {
   "cell_type": "markdown",
   "metadata": {},
   "source": [
    "## Batch Normalization\n",
    "In this section we'll normalize the batch-input to obtain features with zero mean & unit variance, followed by \n",
    "affine transformation to obtain a scaled input distribution. \n"
   ]
  },
  {
   "cell_type": "code",
   "execution_count": 20,
   "metadata": {
    "collapsed": false
   },
   "outputs": [],
   "source": [
    "''' DEFINED ARCHITECTURE \n",
    "       _ _ _  _ _       _ _ _ _ _       _ _ _ _       _ _ _       _ _ _  _ _       _ _ _ _\n",
    "      |     ||   |     |         |     |       |     |     |     |     ||   |     |       |\n",
    "----->| *W1 ||+B1|---->|normalize|---->| batch-|---->| reLU|---->| *W2 ||+B2|---->|softmax|----> LOSS\n",
    "      |     ||   |     |         |     | norm  |     |     |     |     ||   |     |       |\n",
    "      |_ _ _||_ _|     |_ _ _ _ _|     |_ _ _ _|     |_ _ _|     |_ _ _||_ _|     |_ _ _ _|\n",
    "MxD     DxH        MxH             MxH           MxH         MxH   HxK        MxK\n",
    "'''\n",
    "def deep_batchnorm(features,labels,valid_features,valid_labels,step_size,lamda,batch_size=50,epoch=10,hidden_sz=100):\n",
    "\n",
    "    features_dim= np.shape(features)\n",
    "    classes = set(labels)\n",
    "    coeff_1 = 0.01 * np.random.randn(features_dim[1],hidden_sz)/(np.sqrt(features_dim[1]))\n",
    "    coeff_2 = 0.01 * np.random.randn(hidden_sz,len(classes))/(np.sqrt(hidden_sz))\n",
    "\n",
    "    tot_cost,train_accuracy,valid_accuracy = [],[],[]\n",
    "    coeff1_dim = np.shape(coeff_1)    \n",
    "    coeff2_dim = np.shape(coeff_2)\n",
    "    bias_1 = 0.01 * np.random.randn(1,coeff1_dim[1])\n",
    "    bias_2 = 0.01 * np.random.randn(1,coeff2_dim[1])\n",
    "    epsilon = 1e-7\n",
    "    model = {}\n",
    "\n",
    "    gamma = np.ones((hidden_sz,))\n",
    "    beta = np.zeros((hidden_sz,))\n",
    "    epsilon = 1e-7\n",
    "    running_average = np.zeros((1,hidden_sz))\n",
    "    running_std = np.zeros((1,hidden_sz))    \n",
    "    train_accuracy,valid_accuracy = [],[]\n",
    "    num_batches = features_dim[0]/batch_size\n",
    "    \n",
    "    for j in xrange(epoch):        \n",
    "        for i in xrange(num_batches):\n",
    "            batch_features = features[i*batch_size:(i+1)*batch_size]\n",
    "            batch_dim = np.shape(batch_features)\n",
    "            batch_labels = labels[i*batch_size:(i+1)*batch_size]\n",
    "            batch_labels_dim = np.shape(batch_labels)\n",
    "            \n",
    "            #### Layer - 1 ####\n",
    "            layer_1 = np.dot(batch_features,coeff_1) + bias_1\n",
    "            \n",
    "            mean_l1 = np.mean(layer_1,axis=0,keepdims=True) # hidden_szx1\n",
    "            std_l1 = np.std(layer_1,axis=0,keepdims=True) # hidden_szx1\n",
    "            running_average += mean_l1/num_batches\n",
    "            running_std += std_l1**2/(num_batches-1)\n",
    "            \n",
    "            layer_1_norm = (layer_1 - mean_l1)/np.sqrt(std_l1**2 + epsilon)\n",
    "            layer_1_batchnorm = gamma*layer_1_norm + beta\n",
    "            reLU= np.maximum(0,layer_1_batchnorm)\n",
    "            \n",
    "            ## with max-equalization ##\n",
    "            l2_scores = np.transpose(np.dot(reLU,coeff_2) + bias_2) # [KxN]\n",
    "            l2_scores_max = np.max(l2_scores,axis=0) # [1xN]\n",
    "            exp_scores = np.exp(l2_scores-l2_scores_max)\n",
    "            probs_scores = exp_scores/np.sum(exp_scores,axis=0,keepdims=True)  # probs - shape(KxN)\n",
    "            \n",
    "            ## Loss computation\n",
    "            tot_cost.append(-np.sum(probs_scores[batch_labels,range(batch_dim[0])])/batch_dim[0])\n",
    "        \n",
    "            ## backpropagation\n",
    "            probs = np.transpose(probs_scores) # shape - NxK\n",
    "            probs[range(batch_dim[0]),batch_labels] -= 1\n",
    "            probs /= batch_dim[0]\n",
    "\n",
    "            dcoeff_2 = np.dot(reLU.T,probs)   # dcoeff_2 - shape(hxK)\n",
    "            dbias_2 = np.sum(probs, axis=0, keepdims=True)\n",
    "            dhidden_layer = np.dot(probs,coeff_2.T)   # dhidden - shape(Nxh)\n",
    "            dhidden_layer[reLU <= 0] = 0\n",
    "            \n",
    "            dlayer_1_batchnorm = gamma*dhidden_layer\n",
    "            dgamma = np.sum(dhidden_layer*layer_1_norm,axis=0)\n",
    "            dbeta = np.sum(dhidden_layer*1,axis=0)\n",
    "            \n",
    "            dstd_squared = np.sum(dlayer_1_batchnorm*mean_l1,axis=0)*(-1/2)*((std_l1**2 + epsilon)**(-1.5))\n",
    "            dmean = np.sum(dlayer_1_batchnorm,axis=0)*(-(std_l1**2 + epsilon)**-1) + \\\n",
    "                                    dstd_squared*np.sum(-2*mean_l1,axis=0)/batch_size\n",
    "            dlayer_1_norm = dlayer_1_batchnorm*((std_l1**2 + epsilon)**0.5) + dstd_squared*mean_l1 + dmean/batch_size\n",
    "            \n",
    "            ## This is pen-and-paper calculated dlayer_1_norm\n",
    "            #dlayer_1_norm = dlayer_1_batchnorm*(((1-1/batch_size)/std_l1) + (mean_l1/std_l1**2)*(-2/batch_size)*layer_1_norm)\n",
    "            \n",
    "            dcoeff_1 = np.dot(batch_features.T,dlayer_1_norm)\n",
    "            dbias_1 = np.sum(dlayer_1_norm, axis=0, keepdims=True)\n",
    "            \n",
    "            coeff_2 += -step_size*(dcoeff_2 + lamda*coeff_2)  # coeff_2 - shape(hxK)\n",
    "            coeff_1 += -step_size*(dcoeff_1 + lamda*coeff_1)  # coeff_1 - shape(Dxh)\n",
    "            bias_1 += -step_size * dbias_1\n",
    "            bias_2 += -step_size * dbias_2\n",
    "            gamma += -step_size * dgamma\n",
    "            beta += -step_size * dbeta\n",
    "            \n",
    "            # Computing accuracy over training accuracy every iteration \n",
    "            # This can be commented as it slows down the training\n",
    "            layer_1_train = np.dot(features,coeff_1)+bias_1\n",
    "            layer_1_train_norm = (gamma*(layer_1_train-running_average)/np.sqrt(running_std**2 + 1e-7))+beta\n",
    "            hidden_layer_train = np.maximum(0,layer_1_train_norm)\n",
    "            scores_train = np.dot(hidden_layer_train,coeff_2)+bias_2\n",
    "            predicted_class_train = np.argmax(scores_train, axis=1)\n",
    "            train_accuracy.append(np.mean(predicted_class_train == labels))\n",
    "    \n",
    "    model['coeffs_l1'] = coeff_1\n",
    "    model['bias_l1'] = bias_1\n",
    "    model['coeffs_l2'] = coeff_2\n",
    "    model['bias_l2'] = bias_2 \n",
    "    model['train_accuracy'] = train_accuracy\n",
    "    model['valid_accuracy'] = valid_accuracy\n",
    "    model['tot_cost'] = tot_cost\n",
    "    model['gamma'] = gamma\n",
    "    model['beta'] = beta\n",
    "    model['running_mean'] = running_average\n",
    "    model['running_std'] = running_std\n",
    "        \n",
    "    return model"
   ]
  },
  {
   "cell_type": "code",
   "execution_count": 21,
   "metadata": {
    "collapsed": false
   },
   "outputs": [],
   "source": [
    "model_deep_batchnorm = deep_batchnorm(train_vec_in,train_label_out, \\\n",
    "                                                valid_features,valid_labels,batch_size=50, \\\n",
    "                                           epoch=10,hidden_sz=100,lamda=0.001,step_size=1.0)"
   ]
  },
  {
   "cell_type": "code",
   "execution_count": 22,
   "metadata": {
    "collapsed": false
   },
   "outputs": [
    {
     "data": {
      "image/png": "[encoded data removed]",
      "text/plain": [
       "<matplotlib.figure.Figure at 0xae48898>"
      ]
     },
     "metadata": {},
     "output_type": "display_data"
    }
   ],
   "source": [
    "plt.plot(smoothing(model_deep_batchnorm['tot_cost']))\n",
    "plt.show()"
   ]
  },
  {
   "cell_type": "code",
   "execution_count": null,
   "metadata": {
    "collapsed": true
   },
   "outputs": [],
   "source": []
  }
 ],
 "metadata": {
  "kernelspec": {
   "display_name": "Python 2",
   "language": "python",
   "name": "python2"
  },
  "language_info": {
   "codemirror_mode": {
    "name": "ipython",
    "version": 2
   },
   "file_extension": ".py",
   "mimetype": "text/x-python",
   "name": "python",
   "nbconvert_exporter": "python",
   "pygments_lexer": "ipython2",
   "version": "2.7.13"
  }
 },
 "nbformat": 4,
 "nbformat_minor": 2
}
