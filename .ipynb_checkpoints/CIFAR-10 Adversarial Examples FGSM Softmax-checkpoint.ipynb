{
 "cells": [
  {
   "cell_type": "code",
   "execution_count": 132,
   "metadata": {},
   "outputs": [],
   "source": [
    "import numpy as np\n",
    "import scipy\n",
    "import sklearn\n",
    "import _pickle\n",
    "import matplotlib.pyplot as plt\n",
    "from IPython.display import display, Image\n",
    "from scipy import ndimage\n",
    "\n",
    "import tensorflow as tf\n",
    "\n",
    "# Config the matlotlib backend as plotting inline in IPython\n",
    "%matplotlib inline"
   ]
  },
  {
   "cell_type": "code",
   "execution_count": 75,
   "metadata": {},
   "outputs": [
    {
     "name": "stdout",
     "output_type": "stream",
     "text": [
      "F:\\DataAnalysis&MachineLearning\\ResearchAttempt\\WorkWithIan\\Dataset\\cifar-10-batches-py\\data_batch_1\n"
     ]
    }
   ],
   "source": [
    "x = str.format(\"F:\\DataAnalysis&MachineLearning\\ResearchAttempt\\WorkWithIan\\Dataset\\cifar-10-batches-py\\data_batch_{0}\",1)\n",
    "print(x)"
   ]
  },
  {
   "cell_type": "code",
   "execution_count": 131,
   "metadata": {},
   "outputs": [
    {
     "name": "stdout",
     "output_type": "stream",
     "text": [
      "F:\\DataAnalysis&MachineLearning\\ResearchAttempt\\WorkWithIan\\Dataset\\cifar-10-batches-py\\data_batch_1\n",
      "F:\\DataAnalysis&MachineLearning\\ResearchAttempt\\WorkWithIan\\Dataset\\cifar-10-batches-py\\data_batch_2\n",
      "F:\\DataAnalysis&MachineLearning\\ResearchAttempt\\WorkWithIan\\Dataset\\cifar-10-batches-py\\data_batch_3\n",
      "F:\\DataAnalysis&MachineLearning\\ResearchAttempt\\WorkWithIan\\Dataset\\cifar-10-batches-py\\data_batch_4\n",
      "F:\\DataAnalysis&MachineLearning\\ResearchAttempt\\WorkWithIan\\Dataset\\cifar-10-batches-py\\data_batch_5\n",
      "(50000, 3072)\n",
      "uint8\n",
      "(50000,)\n"
     ]
    }
   ],
   "source": [
    "i=1\n",
    "cifar_data = np.empty(shape=(50000,3072),dtype='uint8')\n",
    "labels = np.empty(shape=(50000,),dtype='int32')\n",
    "while i<=5:\n",
    "    with open(str.format(\"F:\\DataAnalysis&MachineLearning\\ResearchAttempt\\WorkWithIan\\Dataset\\cifar-10-batches-py\\data_batch_{0}\",i), \\\n",
    "                                              'rb') as cifar_batch:\n",
    "            print(cifar_batch.name)\n",
    "            batch_dict = _pickle.load(cifar_batch,encoding='bytes')\n",
    "            cifar_data[(i-1)*10000:i*10000] = batch_dict[b'data']\n",
    "            labels[(i-1)*10000:i*10000] = batch_dict[b'labels']\n",
    "    i += 1\n",
    "print(np.shape(cifar_data))\n",
    "print(cifar_data.dtype)\n",
    "print(np.shape(labels))"
   ]
  },
  {
   "cell_type": "code",
   "execution_count": 159,
   "metadata": {},
   "outputs": [
    {
     "data": {
      "image/png": "[encoded data removed]",
      "text/plain": [
       "<matplotlib.figure.Figure at 0x16ba37de978>"
      ]
     },
     "metadata": {},
     "output_type": "display_data"
    },
    {
     "name": "stdout",
     "output_type": "stream",
     "text": [
      "6\n"
     ]
    },
    {
     "data": {
      "image/png": "[encoded data removed]",
      "text/plain": [
       "<matplotlib.figure.Figure at 0x16ba2092d30>"
      ]
     },
     "metadata": {},
     "output_type": "display_data"
    },
    {
     "name": "stdout",
     "output_type": "stream",
     "text": [
      "4\n",
      "[0 1 2 3 4 5 6 7 8 9]\n"
     ]
    }
   ],
   "source": [
    "cifar_data[10000,0:64]\n",
    "plt.imshow(np.reshape(cifar_data[10001,:],newshape=(3,32,32),order='C').transpose(1,2,0))\n",
    "plt.show()\n",
    "print(labels[10001])\n",
    "plt.imshow(np.reshape(cifar_data[10,:],newshape=(3,32,32),order='C').transpose(1,2,0))\n",
    "plt.show()\n",
    "print(labels[10])\n",
    "print(np.unique(labels))"
   ]
  },
  {
   "cell_type": "code",
   "execution_count": 114,
   "metadata": {},
   "outputs": [
    {
     "name": "stdout",
     "output_type": "stream",
     "text": [
      "(2, 3072)\n",
      "(2, 3, 32, 32)\n"
     ]
    },
    {
     "data": {
      "image/png": "[encoded data removed]",
      "text/plain": [
       "<matplotlib.figure.Figure at 0x16ba0d2cdd8>"
      ]
     },
     "metadata": {},
     "output_type": "display_data"
    }
   ],
   "source": [
    "''' Extremely important. Numpy first fills the z-dim first, then the rows, then columns in C-lie ordering '''\n",
    "\n",
    "#print(np.shape(image_features))\n",
    "#print(image_features[0,0:64])\n",
    "#print(image_features[0,1024:1024+64])\n",
    "#print(image_features[0,2048:2048+64])\n",
    "image_features_reshaped = image_features[0:2,:]\n",
    "print(np.shape(image_features_reshaped))\n",
    "image_features_reshaped = np.reshape(image_features_reshaped,newshape=(2,3,32,32),order='C')\n",
    "print(np.shape(image_features_reshaped))\n",
    "#print(image_features_reshaped[0,:,:])\n",
    "image_features_reshaped = image_features_reshaped.transpose([0,2,3,1]).astype('float')/255\n",
    "plt.imshow(image_features_reshaped[1,:,:,:])\n",
    "plt.show()"
   ]
  },
  {
   "cell_type": "markdown",
   "metadata": {},
   "source": [
    "## Tensorflow Multiclass Classification"
   ]
  },
  {
   "cell_type": "code",
   "execution_count": 176,
   "metadata": {},
   "outputs": [],
   "source": [
    "## placeholder for input. In this case CIFAR-10 dataset which is N x 3072\n",
    "x = tf.placeholder(tf.float32, [None, 3072])\n",
    "\n",
    "## Initializing tensforflow variables W and b\n",
    "W = tf.Variable(tf.zeros([3072,10]))\n",
    "b = tf.Variable(tf.zeros(10))\n",
    "\n",
    "## Implementing softmax\n",
    "y = tf.matmul(x, W) + b\n",
    "\n",
    "# Define loss and optimizer\n",
    "y_ = tf.placeholder(tf.int32, [None,])\n",
    "y_one_hot = tf.one_hot(indices=y_,depth=10,on_value=1,off_value=0,axis=-1)\n",
    "\n",
    "# The raw formulation of cross-entropy,\n",
    "#\n",
    "#   tf.reduce_mean(-tf.reduce_sum(y_ * tf.log(tf.nn.softmax(y)),\n",
    "#                                 reduction_indices=[1]))\n",
    "#\n",
    "# can be numerically unstable.\n",
    "#\n",
    "# So here we use tf.nn.softmax_cross_entropy_with_logits on the raw\n",
    "# outputs of 'y', and then average across the batch.\n",
    "cross_entropy = tf.reduce_mean(tf.nn.softmax_cross_entropy_with_logits(labels=y_one_hot, logits=y))\n",
    "\n",
    "## Minimizing Cross entropy\n",
    "train_step = tf.train.GradientDescentOptimizer(0.5).minimize(cross_entropy)\n",
    "\n",
    "#### Another alternative ####\n",
    "images_placeholder = tf.placeholder(tf.float32, shape=[None, 3072])\n",
    "labels_placeholder = tf.placeholder(tf.int64, shape=[None])\n",
    "# Define the classifier's result\n",
    "logits = tf.matmul(images_placeholder, weights) + biases\n",
    "\n",
    "# Define the loss function\n",
    "loss = tf.reduce_mean(tf.nn.sparse_softmax_cross_entropy_with_logits(logits=logits,\n",
    "  labels=labels_placeholder))\n",
    "\n",
    "# Define the training operation\n",
    "train_step_2 = tf.train.GradientDescentOptimizer(0.5).minimize(loss)\n",
    "\n",
    "# Operation comparing prediction with true label\n",
    "correct_prediction_2 = tf.equal(tf.argmax(logits, 1), labels_placeholder)\n",
    "\n",
    "# Operation calculating the accuracy of our predictions\n",
    "accuracy_2 = tf.reduce_mean(tf.cast(correct_prediction, tf.float32))"
   ]
  },
  {
   "cell_type": "code",
   "execution_count": 186,
   "metadata": {},
   "outputs": [
    {
     "name": "stdout",
     "output_type": "stream",
     "text": [
      "[50000    10]\n",
      "[50000    10]\n",
      "0.1\n"
     ]
    },
    {
     "data": {
      "text/plain": [
       "'\\nprint(sess.run(train_step, feed_dict={x: , y_: labels}))\\nprint(sess.run((cross_entropy),feed_dict={x: cifar_data, y_: labels}))'"
      ]
     },
     "execution_count": 186,
     "metadata": {},
     "output_type": "execute_result"
    }
   ],
   "source": [
    "## Interactive Session\n",
    "sess = tf.InteractiveSession()\n",
    "\n",
    "## Initialize the variables\n",
    "tf.global_variables_initializer().run()\n",
    "print(sess.run(tf.shape(y),feed_dict={x:cifar_data,y_:labels}))\n",
    "print(sess.run(tf.shape(y_one_hot),feed_dict={x:cifar_data,y_:labels}))\n",
    "\n",
    "correct_prediction = tf.equal(tf.argmax(y, 1), tf.argmax(y_one_hot, 1))\n",
    "accuracy = tf.reduce_mean(tf.cast(correct_prediction, tf.float32))\n",
    "print(sess.run(accuracy, feed_dict={x: cifar_data,\n",
    "                                      y_:labels}))\n",
    "\n",
    "\n",
    "#print(sess.run(np.shape(y_one_hot.eval()),feed_dict={x: cifar_data,\n",
    " #                                     y_:labels}))\n",
    "#print(sess.run(np.shape(y.eval()),feed_dict={x: cifar_data,\n",
    " #                                     y_:labels}))\n",
    "'''\n",
    "print(sess.run(train_step, feed_dict={x: , y_: labels}))\n",
    "print(sess.run((cross_entropy),feed_dict={x: cifar_data, y_: labels}))'''"
   ]
  },
  {
   "cell_type": "code",
   "execution_count": 160,
   "metadata": {},
   "outputs": [
    {
     "name": "stdout",
     "output_type": "stream",
     "text": [
      "[[0 0 0 ..., 0 0 0]\n",
      " [0 0 0 ..., 0 0 1]\n",
      " [0 0 0 ..., 0 0 1]\n",
      " ..., \n",
      " [0 0 0 ..., 0 0 1]\n",
      " [0 1 0 ..., 0 0 0]\n",
      " [0 1 0 ..., 0 0 0]]\n",
      "[50000    10]\n",
      "[0 0 0 0 1 0 0 0 0 0]\n"
     ]
    }
   ],
   "source": [
    "## One hot encoding the output labels\n",
    "y_ = tf.placeholder(tf.int32, [None])\n",
    "y_one_hot = tf.one_hot(indices=y_,depth=10,on_value=1,off_value=0,axis=-1)\n",
    "shape_y = y_one_hot.get_shape()\n",
    "print(sess.run(y_one_hot, {y_:labels}))\n",
    "print(sess.run(tf.shape(y_one_hot),{y_:labels}))\n",
    "print(sess.run(y_one_hot[10],{y_:labels}))"
   ]
  },
  {
   "cell_type": "code",
   "execution_count": null,
   "metadata": {
    "collapsed": true
   },
   "outputs": [],
   "source": [
    "## Evaluating the model"
   ]
  },
  {
   "cell_type": "code",
   "execution_count": 171,
   "metadata": {
    "collapsed": true
   },
   "outputs": [],
   "source": [
    "tf.nn.softmax_cross_entropy_with_logits??"
   ]
  },
  {
   "cell_type": "code",
   "execution_count": null,
   "metadata": {
    "collapsed": true
   },
   "outputs": [],
   "source": []
  },
  {
   "cell_type": "markdown",
   "metadata": {},
   "source": [
    "### Data Preprocessing"
   ]
  },
  {
   "cell_type": "code",
   "execution_count": 49,
   "metadata": {
    "collapsed": true
   },
   "outputs": [],
   "source": [
    "def preprocess(dataset,per_channel_mean=False):\n",
    "    ''' Subtracting the mean across every individual feature in the dataset.\n",
    "    This allows the data to be centered around the origin.'''\n",
    "    if ~per_channel_mean:\n",
    "        dataset -= np.mean(dataset,axis=0)\n",
    "    dataset /= np.std(dataset,axis=0)\n",
    "    return dataset"
   ]
  },
  {
   "cell_type": "code",
   "execution_count": null,
   "metadata": {
    "collapsed": true
   },
   "outputs": [],
   "source": []
  }
 ],
 "metadata": {
  "kernelspec": {
   "display_name": "Python 3",
   "language": "python",
   "name": "python3"
  },
  "language_info": {
   "codemirror_mode": {
    "name": "ipython",
    "version": 3
   },
   "file_extension": ".py",
   "mimetype": "text/x-python",
   "name": "python",
   "nbconvert_exporter": "python",
   "pygments_lexer": "ipython3",
   "version": "3.5.3"
  }
 },
 "nbformat": 4,
 "nbformat_minor": 2
}
