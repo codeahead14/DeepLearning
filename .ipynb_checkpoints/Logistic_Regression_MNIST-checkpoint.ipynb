{
 "cells": [
  {
   "cell_type": "code",
   "execution_count": 11,
   "metadata": {
    "collapsed": true
   },
   "outputs": [],
   "source": [
    "import cPickle\n",
    "import numpy as np\n",
    "import graphlab as gl\n",
    "import matplotlib.pyplot as plt\n",
    "from IPython.display import display, Image\n",
    "from scipy import ndimage\n",
    "\n",
    "# Config the matlotlib backend as plotting inline in IPython\n",
    "%matplotlib inline"
   ]
  },
  {
   "cell_type": "code",
   "execution_count": 375,
   "metadata": {
    "collapsed": false,
    "scrolled": false
   },
   "outputs": [],
   "source": [
    "with open(\"F:\\DataAnalysis&MachineLearning\\ResearchAttempt\\WorkWithIan\\Dataset\\mnist.pkl\",'rb') as mnist_file:\n",
    "    train_data,valid_data,test_data = cPickle.load(mnist_file)"
   ]
  },
  {
   "cell_type": "code",
   "execution_count": 528,
   "metadata": {
    "collapsed": false
   },
   "outputs": [
    {
     "name": "stdout",
     "output_type": "stream",
     "text": [
      "0\n"
     ]
    },
    {
     "data": {
      "image/png": "[encoded data removed]",
      "text/plain": [
       "<matplotlib.figure.Figure at 0x413fe5f8>"
      ]
     },
     "metadata": {},
     "output_type": "display_data"
    }
   ],
   "source": [
    "## In this block we are shuffling the data to avoid any classification bias\n",
    "train_vec_in,train_label_out = train_data\n",
    "permutation = np.random.permutation(train_vec_in.shape[0])\n",
    "train_vec_in = train_vec_in[permutation,:]\n",
    "train_reshape = np.reshape(train_vec_in,newshape=[50000,28,28])\n",
    "train_label_out = train_label_out[permutation]\n",
    "\n",
    "plt.imshow(train_reshape[3],cmap='gray')\n",
    "print train_label_out[3]"
   ]
  },
  {
   "cell_type": "code",
   "execution_count": 527,
   "metadata": {
    "collapsed": true
   },
   "outputs": [],
   "source": [
    "valid_features,valid_labels = valid_data\n",
    "test_features,test_labels = test_data"
   ]
  },
  {
   "cell_type": "markdown",
   "metadata": {},
   "source": [
    "## Building on logistic regression\n",
    "\n",
    "The link function for logistic regression can be defined as:\n",
    "\n",
    "$$\n",
    "P(y_i = +1 | \\mathbf{x}_i,\\mathbf{w}) = \\frac{1}{1 + \\exp(-\\mathbf{w}^T h(\\mathbf{x}_i))},\n",
    "$$\n",
    "\n",
    "where the feature vector $h(\\mathbf{x}_i)$ is given by the word counts of **important_words** in the review $\\mathbf{x}_i$. \n",
    "\n",
    "We will be using numpy arrrays and operations for implementation"
   ]
  },
  {
   "cell_type": "code",
   "execution_count": 36,
   "metadata": {
    "collapsed": false
   },
   "outputs": [],
   "source": [
    "'''Converting graphlab sframe to numpy. \n",
    "This is not required here since the data is already numpy.ndarray'''\n",
    "\n",
    "def get_numpy_data(data_sframe, features, label):\n",
    "    if 'intercept' not in data_sframe.column_names():\n",
    "        data_sframe['intercept'] = 1\n",
    "        features = ['intercept'] + features\n",
    "    features_sframe = data_sframe[features]\n",
    "    feature_matrix = features_sframe.to_numpy()\n",
    "    label_sarray = data_sframe[label]\n",
    "    label_array = label_sarray.to_numpy()\n",
    "    return(feature_matrix, label_array)"
   ]
  },
  {
   "cell_type": "code",
   "execution_count": 37,
   "metadata": {
    "collapsed": true
   },
   "outputs": [],
   "source": [
    "def prediction_probability(features,coefficients):\n",
    "    score = np.dot(features,coefficients)\n",
    "    probability = 1./(1+ np.exp(-score))\n",
    "    return probability"
   ]
  },
  {
   "cell_type": "code",
   "execution_count": 38,
   "metadata": {
    "collapsed": true
   },
   "outputs": [],
   "source": [
    "import math\n",
    "def log_likelihood(features,coefficients,sentiments):\n",
    "    indicator = (sentiments==+1)\n",
    "    score = np.dot(features,coefficients)\n",
    "    logexp = np.log(1 + np.exp(-score))\n",
    "    likelihood = np.sum((indicator-1)*score - logexp)\n",
    "    return likelihood\n",
    "\n",
    "def derivative_likelihood(errors, feature):     \n",
    "    # Compute the dot product of errors and feature\n",
    "    derivative = np.dot(feature, errors)\n",
    "    \n",
    "    # Return the derivative\n",
    "    return derivative"
   ]
  },
  {
   "cell_type": "code",
   "execution_count": 39,
   "metadata": {
    "collapsed": true
   },
   "outputs": [],
   "source": [
    "def logistic_regression(feature_matrix, sentiment, initial_coefficients, step_size, max_iter):\n",
    "    coefficients = np.array(initial_coefficients) # make sure it's a numpy array\n",
    "    for itr in xrange(max_iter):\n",
    "\n",
    "        # Predict P(y_i = +1|x_i,w) using your predict_probability() function\n",
    "        # YOUR CODE HERE\n",
    "        predictions = prediction_probability(feature_matrix, coefficients)\n",
    "        \n",
    "        # Compute indicator value for (y_i = +1)\n",
    "        indicator = (sentiment==+1)\n",
    "        \n",
    "        # Compute the errors as indicator - predictions\n",
    "        errors = indicator - predictions\n",
    "        for j in xrange(len(coefficients)): # loop over each coefficient\n",
    "            \n",
    "            # Recall that feature_matrix[:,j] is the feature column associated with coefficients[j].\n",
    "            # Compute the derivative for coefficients[j]. Save it in a variable called derivative\n",
    "            # YOUR CODE HERE\n",
    "            derivative = derivative_likelihood(errors, feature_matrix[:,j])\n",
    "            \n",
    "            # add the step size times the derivative to the current coefficient\n",
    "            ## YOUR CODE HERE\n",
    "            coefficients[j] = coefficients[j] + step_size*derivative\n",
    "        \n",
    "        # Checking whether log likelihood is increasing\n",
    "        if itr <= 15 or (itr <= 100 and itr % 10 == 0) or (itr <= 1000 and itr % 100 == 0) \\\n",
    "        or (itr <= 10000 and itr % 1000 == 0) or itr % 10000 == 0:\n",
    "            lp = log_likelihood(feature_matrix, coefficients, sentiment)\n",
    "            print 'iteration %*d: log likelihood of observed labels = %.8f' % \\\n",
    "                (int(np.ceil(np.log10(max_iter))), itr, lp)\n",
    "    return coefficients"
   ]
  },
  {
   "cell_type": "code",
   "execution_count": null,
   "metadata": {
    "collapsed": true
   },
   "outputs": [],
   "source": [
    "coefficients = logistic_regression(train_vec_in, train_label_out, initial_coefficients=np.zeros(194),\n",
    "                                   step_size=1e-7, max_iter=301)"
   ]
  },
  {
   "cell_type": "markdown",
   "metadata": {},
   "source": [
    "## Multinomial Regression\n",
    "Here we have a multiclass Regression problem, which cannot be solved by Logistic Regression. We will be using Softmax Regression.\n",
    "http://ufldl.stanford.edu/tutorial/supervised/SoftmaxRegression/\n",
    "\n"
   ]
  },
  {
   "cell_type": "code",
   "execution_count": 85,
   "metadata": {
    "collapsed": false
   },
   "outputs": [],
   "source": [
    "def softmax_probability(coefficients,features):\n",
    "    if np.shape(coefficients)[1] != np.shape(features)[0]:\n",
    "        coefficients = np.transpose(coefficients)\n",
    "    score = np.dot(coefficients,features)\n",
    "    return np.transpose(np.exp(score-np.amax(score,axis=0))/np.sum(np.exp(score-np.amax(score,axis=0)),axis=0))\n",
    "    #'''subtracting score by max(score,axis=0) for maintaining numerial stability'''\n",
    "    #return np.exp(score-max(score))/np.sum(np.exp(score-max(score)),axis=0)"
   ]
  },
  {
   "cell_type": "code",
   "execution_count": 178,
   "metadata": {
    "collapsed": false
   },
   "outputs": [
    {
     "name": "stdout",
     "output_type": "stream",
     "text": [
      "(3L,)\n",
      "[ 0.00182135  0.0994422   0.16395247  0.73478399]\n"
     ]
    }
   ],
   "source": [
    "#Test Vectors\n",
    "coefficients = np.array([[1, 2, 3, 6],\n",
    "                   [2, 4, 5, 6],\n",
    "                   [3, 8, 7, 6]])\n",
    "x = np.array([0.5,0.5,0.5])\n",
    "print np.shape(x)\n",
    "score = np.dot(coefficients.T,x)\n",
    "print softmax_probability(coefficients,x)"
   ]
  },
  {
   "cell_type": "code",
   "execution_count": 16,
   "metadata": {
    "collapsed": false
   },
   "outputs": [],
   "source": [
    "## One hot encoding\n",
    "# output_label - Numpy Array (1-D)\n",
    "# classes - all possible output classes\n",
    "def one_hot_encoding(output_label,classes):\n",
    "    '''It is highly probable that our output_label array consists of all possible classes.\n",
    "    Yet we will be using num_classes to be sent from outside.'''\n",
    "    output_dim = np.shape(output_label)\n",
    "    one_hot_encoded = np.zeros(shape=(output_dim[0],np.shape(classes)[0]))\n",
    "    for i in xrange(output_dim[0]):\n",
    "        ind = np.where(classes == output_label[i])[0][0]\n",
    "        one_hot_encoded[i][ind] = 1\n",
    "    \n",
    "    ## The following will work only when output_label consists of numbers and is valued from 0\n",
    "    #one_hot_encoded[np.arange(output_dim[0]),output_label] = 1        \n",
    "        \n",
    "    return one_hot_encoded"
   ]
  },
  {
   "cell_type": "code",
   "execution_count": 179,
   "metadata": {
    "collapsed": false
   },
   "outputs": [
    {
     "name": "stdout",
     "output_type": "stream",
     "text": [
      "[[ 0.  1.  0.  0.  0.  0.]\n",
      " [ 1.  0.  0.  0.  0.  0.]\n",
      " [ 0.  0.  0.  1.  0.  0.]\n",
      " [ 0.  0.  1.  0.  0.  0.]\n",
      " [ 0.  0.  0.  0.  0.  1.]\n",
      " [ 0.  0.  0.  0.  0.  1.]]\n"
     ]
    }
   ],
   "source": [
    "# Test Vectors\n",
    "label = np.array([2,1,4,3,6,6])\n",
    "classes = np.array([1,2,3,4,5,6])\n",
    "print one_hot_encoding(label,classes)"
   ]
  },
  {
   "cell_type": "code",
   "execution_count": 536,
   "metadata": {
    "collapsed": false
   },
   "outputs": [],
   "source": [
    "## Coefficients = (num_classes,num_types_features)\n",
    "#  features = (num_datapoints,num_types_features)\n",
    "def softmax_regression(coefficients,features,output_label,classes,step_size,lamda,max_iter=1000,fit_intercept=True):\n",
    "    print np.shape(coefficients)\n",
    "    print np.shape(np.ones((len(classes),1)))\n",
    "    if fit_intercept:\n",
    "        features = np.concatenate((np.ones((np.shape(features)[0],1)),features),axis=1)\n",
    "        coefficients = np.concatenate((np.ones((len(classes),1)),coefficients),axis=1)\n",
    "    \n",
    "    features_dim = np.shape(features)\n",
    "    coeff_dim = np.shape(coefficients)\n",
    "    probs = np.zeros(shape=(coeff_dim[1],features_dim[0]))\n",
    "    #cost = np.zeros(np.shape(output_label)[0])  # Cost - array of len (number of output labels)\n",
    "    cost = []\n",
    "    \n",
    "    for count in xrange(max_iter): \n",
    "        #for i in xrange(features_dim[0]):\n",
    "        #    probs[i,:] = softmax_probability(coefficients,features[i,:])\n",
    "        # Probability is of the shape = [number of datapoints, number of classes]\n",
    "        probs = softmax_probability(coefficients,features.T)\n",
    "        \n",
    "        '''The following works provided output_label contains numerical data.\n",
    "        For categorical classes convert all classes into corresponding indices and \n",
    "        the output labels accordingly.'''\n",
    "        # For l2 regularization we will not take the sum of intercept coefficients.\n",
    "        data_loss = -np.sum(np.log(probs[range(features_dim[0]),output_label])) + lamda*np.sum((coefficients*coefficients)[1:])\n",
    "        cost.append(data_loss) #/features_dim[0])\n",
    "\n",
    "        ''' Following is the alternate approach using one-hot encoding.'''\n",
    "        #probs = -np.log(np.transpose(probs))\n",
    "        #encoded_output = one_hot_encoding(output_label,classes)    \n",
    "        #cost = np.multiply(np.transpose(encoded_output),probs)/features_dim[0]\n",
    "\n",
    "        ''' Computing the gradient. \n",
    "        Shape of Features(X) = [Number of data points, number of features].\n",
    "        Shape of Probabilities = [number of data points, number of classes].\n",
    "        Here we will have to compute the outer product of X & Probabilities. Each column will then correspond to \n",
    "        the cost derivative w.r.t to corresponding class'''\n",
    "        probs[range(features_dim[0]),output_label] -= 1\n",
    "        derivative = np.dot(features.T,probs) + 2*lamda*coefficients.T\n",
    "        #coefficients = coefficients - step_size*derivative.T\n",
    "        \n",
    "        ## Leaving out intercept from regularization\n",
    "        coefficients[:,0] = coefficients[:,0] - step_size*(derivative[0,:])\n",
    "        coefficients[:,1:] = coefficients[:,1:] - step_size*(derivative.T[:,1:] + 2*lamda*coefficients[:,1:])\n",
    "    return coefficients,cost"
   ]
  },
  {
   "cell_type": "code",
   "execution_count": 517,
   "metadata": {
    "collapsed": true
   },
   "outputs": [],
   "source": [
    "# Here the inputs coefficients and features should satisfy the dimensionality matching criteria \n",
    "def compute_accuracy(coefficients,features,output_labels):\n",
    "    ''' coefficients = (num_classes,num_features)\n",
    "        features = (num_features,num_inputs)\n",
    "        prediction_dot_product = (num_classes,num_inputs)\n",
    "        Thus, we have to find the index of the class with maximum score in axis=0\n",
    "        '''\n",
    "    features_dim = np.shape(features)\n",
    "    #coefficients = coefficients[:,1:]    ## Removing intercept coefficients\n",
    "    prediction = np.argmax(np.dot(coefficients,features),axis=0)\n",
    "    accuracy = (prediction==output_labels)\n",
    "    return np.sum(accuracy,dtype='float32')*100/features_dim[1]"
   ]
  },
  {
   "cell_type": "markdown",
   "metadata": {
    "collapsed": true
   },
   "source": [
    "### Now we will be performing softmax regression on MNIST Data set."
   ]
  },
  {
   "cell_type": "code",
   "execution_count": 537,
   "metadata": {
    "collapsed": false
   },
   "outputs": [
    {
     "name": "stdout",
     "output_type": "stream",
     "text": [
      "(10L, 784L)\n",
      "(10L, 1L)\n"
     ]
    }
   ],
   "source": [
    "classes = set(train_label_out)\n",
    "step_size = 1e-5\n",
    "coefficients = np.zeros(shape=(len(classes),np.shape(train_vec_in)[1]))\n",
    "model_coefficients,cost = softmax_regression(coefficients,train_vec_in,train_label_out,classes,step_size,lamda=0, \\\n",
    "                                             max_iter=100,fit_intercept=False)"
   ]
  },
  {
   "cell_type": "code",
   "execution_count": 538,
   "metadata": {
    "collapsed": false
   },
   "outputs": [
    {
     "name": "stdout",
     "output_type": "stream",
     "text": [
      "Accuracy on Training Set is 89.216%\n",
      "Accuracy on Test Set is 90.09%\n",
      "Accuracy on Validation Set is 90.42%\n"
     ]
    }
   ],
   "source": [
    "print \"Accuracy on Training Set is {}%\".format(compute_accuracy(model_coefficients,train_vec_in.T,train_label_out))\n",
    "print \"Accuracy on Test Set is {}%\".format(compute_accuracy(model_coefficients,test_features.T,test_labels))\n",
    "print \"Accuracy on Validation Set is {}%\".format(compute_accuracy(model_coefficients,valid_features.T,valid_labels))"
   ]
  },
  {
   "cell_type": "code",
   "execution_count": 423,
   "metadata": {
    "collapsed": true
   },
   "outputs": [],
   "source": [
    "## We will compute the accuracy over different values of lamda and see which maximizes the accuracy over validation set.\n",
    "def cross_validation(train_features,train_labels,valid_features,valid_labels,lamda,step_size,max_iter=100):\n",
    "    classes = set(train_labels)\n",
    "    init_coefficients = np.zeros(shape=(len(classes),np.shape(train_vec_in)[1]))\n",
    "    coefficients,_ = softmax_regression(init_coefficients,train_features,train_labels,classes,step_size,lamda,max_iter)\n",
    "    valid_set_accuracy = compute_accuracy(coefficients,valid_features.T,valid_labels)\n",
    "    print \"accuracy for lamda {} is {}\".format(lamda,valid_set_accuracy)\n",
    "    return valid_set_accuracy"
   ]
  },
  {
   "cell_type": "markdown",
   "metadata": {},
   "source": [
    "### Hyperparameter tuning"
   ]
  },
  {
   "cell_type": "code",
   "execution_count": 420,
   "metadata": {
    "collapsed": false
   },
   "outputs": [
    {
     "name": "stdout",
     "output_type": "stream",
     "text": [
      "accuracy for lamda 10.0 is 90.39\n",
      "accuracy for lamda 31.6227766017 is 90.36\n",
      "accuracy for lamda 100.0 is 90.19\n",
      "accuracy for lamda 316.227766017 is 89.58\n",
      "accuracy for lamda 1000.0 is 87.95\n",
      "accuracy for lamda 3162.27766017 is 80.93\n",
      "accuracy for lamda 10000.0 is 52.73\n",
      "accuracy for lamda 31622.7766017 is 10.09\n",
      "accuracy for lamda 100000.0 is 1.17\n",
      "accuracy for lamda 316227.766017 is 0.33\n",
      "accuracy for lamda 1000000.0 is 0.32\n",
      "accuracy for lamda 3162277.66017 is 0.33\n",
      "accuracy for lamda 10000000.0 is 0.33\n",
      "[array([ True,  True,  True, ...,  True,  True,  True], dtype=bool), array([ True,  True,  True, ...,  True,  True,  True], dtype=bool), array([ True,  True,  True, ...,  True,  True,  True], dtype=bool), array([ True,  True,  True, ...,  True,  True,  True], dtype=bool), array([ True,  True,  True, ...,  True,  True,  True], dtype=bool), array([ True,  True,  True, ...,  True,  True,  True], dtype=bool), array([ True,  True,  True, ...,  True,  True,  True], dtype=bool), array([ True,  True,  True, ...,  True,  True,  True], dtype=bool), array([ True,  True,  True, ...,  True,  True,  True], dtype=bool), array([ True,  True,  True, ...,  True,  True,  True], dtype=bool), array([ True,  True,  True, ...,  True,  True,  True], dtype=bool), array([ True,  True,  True, ...,  True,  True,  True], dtype=bool), array([ True,  True,  True, ...,  True,  True,  True], dtype=bool)]\n"
     ]
    }
   ],
   "source": [
    "lamda = np.logspace(1, 7, num=13)\n",
    "accuracy = []\n",
    "step_size = 1e-5\n",
    "for item in lamda:\n",
    "    accuracy.append(cross_validation(train_vec_in,train_label_out,valid_features,valid_labels,item,step_size))\n",
    "    \n",
    "print accuracy"
   ]
  },
  {
   "cell_type": "code",
   "execution_count": 460,
   "metadata": {
    "collapsed": false
   },
   "outputs": [],
   "source": [
    "def k_cross_validation(train_dataset,lamda,step_size,k=10,max_iter=100):\n",
    "    ''' Performing k-fold cross validation. Before perfoming cross validation we will shuffle the datasets '''\n",
    "    np.random.shuffle(train_dataset)\n",
    "    print train_dataset\n",
    "    #for i in range(k):\n",
    "    n = np.shape(train_dataset)[0]\n",
    "    i=0\n",
    "    start = n*i/k\n",
    "    end = n*(i+1)/k\n",
    "    print start, end\n",
    "    valid_set = train_dataset[start:end,:]\n",
    "    train_data = np.concatenate((train_dataset[0:start,:],train_dataset[end:,:]),axis=0)\n",
    "    print train_data"
   ]
  },
  {
   "cell_type": "code",
   "execution_count": 463,
   "metadata": {
    "collapsed": false
   },
   "outputs": [
    {
     "name": "stdout",
     "output_type": "stream",
     "text": [
      "[[12 13 14]\n",
      " [ 6  7  8]\n",
      " [ 0  1  2]\n",
      " [ 9 10 11]\n",
      " [18 19 20]\n",
      " [ 3  4  5]\n",
      " [15 16 17]]\n",
      "0 2\n",
      "[[ 0  1  2]\n",
      " [ 9 10 11]\n",
      " [18 19 20]\n",
      " [ 3  4  5]\n",
      " [15 16 17]]\n"
     ]
    }
   ],
   "source": [
    "x = np.arange(21).reshape(7,3)\n",
    "k_cross_validation(x,1,1,3,1)"
   ]
  },
  {
   "cell_type": "code",
   "execution_count": null,
   "metadata": {
    "collapsed": true
   },
   "outputs": [],
   "source": []
  },
  {
   "cell_type": "code",
   "execution_count": 387,
   "metadata": {
    "collapsed": false
   },
   "outputs": [
    {
     "name": "stdout",
     "output_type": "stream",
     "text": [
      "20125.5856655\n"
     ]
    }
   ],
   "source": [
    "import scipy\n",
    "\n",
    "def softmax(z):\n",
    "    z -= np.max(z)\n",
    "    sm = (np.exp(z).T / np.sum(np.exp(z),axis=1)).T\n",
    "    return sm\n",
    "\n",
    "def getProbsAndPreds(someX):\n",
    "    probs = softmax(np.dot(someX,w))\n",
    "    preds = np.argmax(probs,axis=1)\n",
    "    return probs,preds\n",
    "\n",
    "def oneHotIt(Y):\n",
    "    m = Y.shape[0]\n",
    "    #Y = Y[:,0]\n",
    "    OHX = scipy.sparse.csr_matrix((np.ones(m), (Y, np.array(range(m)))))\n",
    "    OHX = np.array(OHX.todense()).T\n",
    "    return OHX\n",
    "\n",
    "def getLoss(w,x,y,lam):\n",
    "    m = x.shape[0] #First we get the number of training examples\n",
    "    y_mat = oneHotIt(y) #Next we convert the integer class coding into a one-hot representation\n",
    "    scores = np.dot(x,w) #Then we compute raw class scores given our input and current weights\n",
    "    prob = softmax(scores) #Next we perform a softmax on these scores to get their probabilities    \n",
    "    loss = (-1 / m) * np.sum(y_mat * np.log(prob)) + (lam/2)*np.sum(w*w) #We then find the loss of the probabilities\n",
    "    grad = (-1 / m) * np.dot(x.T,(y_mat - prob)) + lam*w #And compute the gradient for that loss\n",
    "    return loss,grad,prob\n",
    "\n",
    "w = np.zeros([np.shape(train_vec_in)[1],len(set(train_label_out))])\n",
    "lam = 1\n",
    "iterations = 100\n",
    "learningRate = 1e-5\n",
    "losses = []\n",
    "for i in range(0,iterations):\n",
    "    loss,grad,prob = getLoss(w,train_vec_in,train_label_out,1)\n",
    "    losses.append(loss)\n",
    "    w = w - (learningRate * grad)\n",
    "#print grad\n",
    "#print w\n",
    "print loss"
   ]
  },
  {
   "cell_type": "code",
   "execution_count": 237,
   "metadata": {
    "collapsed": false
   },
   "outputs": [
    {
     "data": {
      "text/plain": [
       "[<matplotlib.lines.Line2D at 0x3f395f98>,\n",
       " <matplotlib.lines.Line2D at 0x3fc91b00>,\n",
       " <matplotlib.lines.Line2D at 0x3fc91128>,\n",
       " <matplotlib.lines.Line2D at 0x3fc91ba8>,\n",
       " <matplotlib.lines.Line2D at 0x3fc914e0>,\n",
       " <matplotlib.lines.Line2D at 0x40dbf940>,\n",
       " <matplotlib.lines.Line2D at 0x3f680a20>,\n",
       " <matplotlib.lines.Line2D at 0x3f395908>,\n",
       " <matplotlib.lines.Line2D at 0x3f680fd0>,\n",
       " <matplotlib.lines.Line2D at 0x3f6800b8>]"
      ]
     },
     "execution_count": 237,
     "metadata": {},
     "output_type": "execute_result"
    },
    {
     "data": {
      "image/png": "[encoded data removed]",
      "text/plain": [
       "<matplotlib.figure.Figure at 0x40e18d68>"
      ]
     },
     "metadata": {},
     "output_type": "display_data"
    }
   ],
   "source": [
    "plt.plot(w)"
   ]
  },
  {
   "cell_type": "code",
   "execution_count": 388,
   "metadata": {
    "collapsed": false
   },
   "outputs": [
    {
     "name": "stdout",
     "output_type": "stream",
     "text": [
      "[3 0 4 ..., 8 4 8]\n",
      "0.89214\n"
     ]
    }
   ],
   "source": [
    "prediction = np.argmax(np.dot(w.T,train_vec_in.T),axis=0)\n",
    "print prediction\n",
    "accuracy = (prediction==train_label_out)\n",
    "print np.sum(accuracy,dtype='float32')/50000"
   ]
  },
  {
   "cell_type": "code",
   "execution_count": 389,
   "metadata": {
    "collapsed": false
   },
   "outputs": [
    {
     "name": "stdout",
     "output_type": "stream",
     "text": [
      "0.9009\n"
     ]
    }
   ],
   "source": [
    "test_prediction = np.transpose(np.dot(w.T,test_features.T))\n",
    "test_accuracy = (np.argmax(test_prediction,axis=1) == test_labels)\n",
    "print np.sum(test_accuracy,dtype='float32')/10000\n",
    "#print np.argmax(np.dot(w.T,test_features[2]))"
   ]
  },
  {
   "cell_type": "code",
   "execution_count": 437,
   "metadata": {
    "collapsed": false
   },
   "outputs": [
    {
     "name": "stdout",
     "output_type": "stream",
     "text": [
      "[[1 2 3]\n",
      " [3 6 8]\n",
      " [7 8 9]]\n"
     ]
    }
   ],
   "source": [
    "x = np.array([[1,2,3],[2,4,5],[3,6,7],[3,6,8],[7,8,9]])\n",
    "print np.concatenate((x[:1,:],x[3:,:]),axis=0)"
   ]
  },
  {
   "cell_type": "code",
   "execution_count": 428,
   "metadata": {
    "collapsed": true
   },
   "outputs": [],
   "source": [
    "np.stack??"
   ]
  },
  {
   "cell_type": "code",
   "execution_count": null,
   "metadata": {
    "collapsed": true
   },
   "outputs": [],
   "source": []
  }
 ],
 "metadata": {
  "kernelspec": {
   "display_name": "Python 2",
   "language": "python",
   "name": "python2"
  },
  "language_info": {
   "codemirror_mode": {
    "name": "ipython",
    "version": 2
   },
   "file_extension": ".py",
   "mimetype": "text/x-python",
   "name": "python",
   "nbconvert_exporter": "python",
   "pygments_lexer": "ipython2",
   "version": "2.7.11"
  }
 },
 "nbformat": 4,
 "nbformat_minor": 0
}
