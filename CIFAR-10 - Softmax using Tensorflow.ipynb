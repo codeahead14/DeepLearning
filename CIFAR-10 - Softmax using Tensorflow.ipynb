{
 "cells": [
  {
   "cell_type": "code",
   "execution_count": 1,
   "metadata": {
    "collapsed": true
   },
   "outputs": [],
   "source": [
    "import numpy as np\n",
    "import scipy\n",
    "import sklearn\n",
    "import _pickle\n",
    "import matplotlib.pyplot as plt\n",
    "from IPython.display import display, Image\n",
    "from scipy import ndimage\n",
    "\n",
    "import tensorflow as tf\n",
    "\n",
    "# Config the matlotlib backend as plotting inline in IPython\n",
    "%matplotlib inline"
   ]
  },
  {
   "cell_type": "code",
   "execution_count": null,
   "metadata": {
    "collapsed": true
   },
   "outputs": [],
   "source": [
    "i=1\n",
    "cifar_data = np.empty(shape=(10000,3072),dtype='uint8')\n",
    "labels = np.empty(shape=(10000,),dtype='int32')\n",
    "while i<=1:\n",
    "    with open(str.format(\"cifar-10-batches-py\\data_batch_{0}\",i), 'rb') as cifar_batch:\n",
    "        batch_dict = _pickle.load(cifar_batch,encoding='bytes')\n",
    "        cifar_data[(i-1)*10000:i*10000] = batch_dict[b'data'].astype('float32')\n",
    "        labels[(i-1)*10000:i*10000] = batch_dict[b'labels']\n",
    "    i += 1\n",
    "    \n",
    "cifar_data = (cifar_data.astype('float32'))/255"
   ]
  },
  {
   "cell_type": "code",
   "execution_count": null,
   "metadata": {
    "collapsed": true
   },
   "outputs": [],
   "source": [
    "## placeholder for input. In this case CIFAR-10 dataset which is N x 3072\n",
    "x = tf.placeholder(tf.float32, [None, 3072])\n",
    "\n",
    "## Initializing tensforflow variables W and b\n",
    "W = tf.Variable(tf.zeros([3072,10]))\n",
    "b = tf.Variable(tf.zeros(10))\n",
    "\n",
    "## Implementing softmax\n",
    "y = tf.matmul(x, W) + b\n",
    "\n",
    "# Define loss and optimizer\n",
    "y_ = tf.placeholder(tf.int32, [None,])\n",
    "y_one_hot = tf.one_hot(indices=y_,depth=10,on_value=1,off_value=0,axis=-1)\n",
    "\n",
    "#cross_entropy = tf.reduce_mean(tf.nn.softmax_cross_entropy_with_logits(labels=y_one_hot, logits=y))\n",
    "cross_entropy = tf.reduce_mean(tf.nn.sparse_softmax_cross_entropy_with_logits(logits=y,labels=y_))\n",
    "\n",
    "## Minimizing Cross entropy\n",
    "train_step = tf.train.GradientDescentOptimizer(0.005).minimize(cross_entropy)\n",
    "\n",
    "## Prediction and Accuracy\n",
    "z = tf.to_int64(y_)\n",
    "correct_prediction = tf.equal(tf.argmax(y, 1), z)\n",
    "accuracy = tf.reduce_mean(tf.cast(correct_prediction, tf.float32))"
   ]
  },
  {
   "cell_type": "code",
   "execution_count": null,
   "metadata": {
    "collapsed": true
   },
   "outputs": [],
   "source": [
    "## Interactive Session\n",
    "sess = tf.InteractiveSession()\n",
    "\n",
    "## Initialize the variables\n",
    "tf.global_variables_initializer().run()\n",
    "\n",
    "print(sess.run(accuracy, feed_dict={x: cifar_data, y_:labels}))"
   ]
  }
 ],
 "metadata": {
  "kernelspec": {
   "display_name": "Python 3",
   "language": "python",
   "name": "python3"
  },
  "language_info": {
   "codemirror_mode": {
    "name": "ipython",
    "version": 3
   },
   "file_extension": ".py",
   "mimetype": "text/x-python",
   "name": "python",
   "nbconvert_exporter": "python",
   "pygments_lexer": "ipython3",
   "version": "3.5.3"
  }
 },
 "nbformat": 4,
 "nbformat_minor": 2
}
