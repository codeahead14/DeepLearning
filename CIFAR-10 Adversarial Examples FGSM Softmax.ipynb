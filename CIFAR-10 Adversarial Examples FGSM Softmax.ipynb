{
 "cells": [
  {
   "cell_type": "code",
   "execution_count": 1,
   "metadata": {
    "collapsed": true
   },
   "outputs": [],
   "source": [
    "import numpy as np\n",
    "import scipy\n",
    "import sklearn\n",
    "import _pickle\n",
    "import matplotlib.pyplot as plt\n",
    "from IPython.display import display, Image\n",
    "from scipy import ndimage\n",
    "\n",
    "import tensorflow as tf\n",
    "\n",
    "# Config the matlotlib backend as plotting inline in IPython\n",
    "%matplotlib inline"
   ]
  },
  {
   "cell_type": "code",
   "execution_count": 75,
   "metadata": {},
   "outputs": [
    {
     "name": "stdout",
     "output_type": "stream",
     "text": [
      "F:\\DataAnalysis&MachineLearning\\ResearchAttempt\\WorkWithIan\\Dataset\\cifar-10-batches-py\\data_batch_1\n"
     ]
    }
   ],
   "source": [
    "x = str.format(\"F:\\DataAnalysis&MachineLearning\\ResearchAttempt\\WorkWithIan\\Dataset\\cifar-10-batches-py\\data_batch_{0}\",1)\n",
    "print(x)"
   ]
  },
  {
   "cell_type": "code",
   "execution_count": 45,
   "metadata": {},
   "outputs": [
    {
     "name": "stdout",
     "output_type": "stream",
     "text": [
      "F:\\DataAnalysis&MachineLearning\\ResearchAttempt\\WorkWithIan\\Dataset\\cifar-10-batches-py\\data_batch_1\n",
      "F:\\DataAnalysis&MachineLearning\\ResearchAttempt\\WorkWithIan\\Dataset\\cifar-10-batches-py\\data_batch_2\n",
      "F:\\DataAnalysis&MachineLearning\\ResearchAttempt\\WorkWithIan\\Dataset\\cifar-10-batches-py\\data_batch_3\n",
      "F:\\DataAnalysis&MachineLearning\\ResearchAttempt\\WorkWithIan\\Dataset\\cifar-10-batches-py\\data_batch_4\n",
      "F:\\DataAnalysis&MachineLearning\\ResearchAttempt\\WorkWithIan\\Dataset\\cifar-10-batches-py\\data_batch_5\n",
      "(50000, 3072)\n",
      "float32\n",
      "(50000,)\n",
      "int32\n"
     ]
    }
   ],
   "source": [
    "i=1\n",
    "cifar_data = np.empty(shape=(50000,3072),dtype='uint8')\n",
    "labels = np.empty(shape=(50000,),dtype='int32')\n",
    "while i<=5:\n",
    "    with open(str.format(\"F:\\DataAnalysis&MachineLearning\\ResearchAttempt\\WorkWithIan\\Dataset\\cifar-10-batches-py\\data_batch_{0}\",i), \\\n",
    "                                              'rb') as cifar_batch:\n",
    "            print(cifar_batch.name)\n",
    "            batch_dict = _pickle.load(cifar_batch,encoding='bytes')\n",
    "            cifar_data[(i-1)*10000:i*10000] = batch_dict[b'data'].astype('float32')\n",
    "            labels[(i-1)*10000:i*10000] = batch_dict[b'labels']\n",
    "    i += 1\n",
    "    \n",
    "cifar_data = (cifar_data.astype('float32'))/255\n",
    "print(np.shape(cifar_data))\n",
    "print(cifar_data.dtype)\n",
    "print(np.shape(labels))\n",
    "print(labels.dtype)"
   ]
  },
  {
   "cell_type": "code",
   "execution_count": 3,
   "metadata": {},
   "outputs": [
    {
     "data": {
      "image/png": "[encoded data removed]",
      "text/plain": [
       "<matplotlib.figure.Figure at 0x1b987018438>"
      ]
     },
     "metadata": {},
     "output_type": "display_data"
    },
    {
     "name": "stdout",
     "output_type": "stream",
     "text": [
      "6\n"
     ]
    },
    {
     "data": {
      "image/png": "[encoded data removed]",
      "text/plain": [
       "<matplotlib.figure.Figure at 0x1b9ffdf06a0>"
      ]
     },
     "metadata": {},
     "output_type": "display_data"
    },
    {
     "name": "stdout",
     "output_type": "stream",
     "text": [
      "9\n",
      "[0 1 2 3 4 5 6 7 8 9]\n"
     ]
    }
   ],
   "source": [
    "plt.imshow(np.reshape(cifar_data[0,:],newshape=(3,32,32),order='C').transpose(1,2,0))\n",
    "plt.show()\n",
    "print(labels[0])\n",
    "plt.imshow(np.reshape(cifar_data[1,:],newshape=(3,32,32),order='C').transpose(1,2,0))\n",
    "plt.show()\n",
    "print(labels[1])\n",
    "print(np.unique(labels))"
   ]
  },
  {
   "cell_type": "code",
   "execution_count": 5,
   "metadata": {},
   "outputs": [
    {
     "data": {
      "text/plain": [
       "' Extremely important. Numpy first fills the z-dim first, then the rows, then columns in C-lie ordering '"
      ]
     },
     "execution_count": 5,
     "metadata": {},
     "output_type": "execute_result"
    }
   ],
   "source": [
    "''' Extremely important. Numpy first fills the z-dim first, then the rows, then columns in C-lie ordering '''\n",
    "\n",
    "#print(np.shape(image_features))\n",
    "#print(image_features[0,0:64])\n",
    "#print(image_features[0,1024:1024+64])\n",
    "#print(image_features[0,2048:2048+64])\n",
    "image_features_reshaped = image_features[0:2,:]\n",
    "print(np.shape(image_features_reshaped))\n",
    "image_features_reshaped = np.reshape(image_features_reshaped,newshape=(2,3,32,32),order='C')\n",
    "print(np.shape(image_features_reshaped))\n",
    "#print(image_features_reshaped[0,:,:])\n",
    "image_features_reshaped = image_features_reshaped.transpose([0,2,3,1]).astype('float')/255\n",
    "plt.imshow(image_features_reshaped[1,:,:,:])\n",
    "plt.show()"
   ]
  },
  {
   "cell_type": "markdown",
   "metadata": {},
   "source": [
    "## Tensorflow Multiclass Classification"
   ]
  },
  {
   "cell_type": "code",
   "execution_count": null,
   "metadata": {
    "collapsed": true
   },
   "outputs": [],
   "source": [
    "# Using tensorflow cifar10 utilities to read and load data"
   ]
  },
  {
   "cell_type": "code",
   "execution_count": 50,
   "metadata": {
    "collapsed": true
   },
   "outputs": [],
   "source": [
    "## placeholder for input. In this case CIFAR-10 dataset which is N x 3072\n",
    "x = tf.placeholder(tf.float32, [None, 3072])\n",
    "\n",
    "## Initializing tensforflow variables W and b\n",
    "W = tf.Variable(tf.zeros([3072,10]))\n",
    "b = tf.Variable(tf.zeros([10]))\n",
    "\n",
    "## Implementing softmax\n",
    "y = tf.matmul(x, W) + b\n",
    "\n",
    "# Define loss and optimizer\n",
    "y_ = tf.placeholder(tf.int32, [None,])\n",
    "y_one_hot = tf.one_hot(indices=y_,depth=10,on_value=1,off_value=0,axis=-1)\n",
    "\n",
    "# The raw formulation of cross-entropy,\n",
    "#\n",
    "#   tf.reduce_mean(-tf.reduce_sum(y_ * tf.log(tf.nn.softmax(y)),\n",
    "#                                 reduction_indices=[1]))\n",
    "#\n",
    "# can be numerically unstable.\n",
    "#\n",
    "# So here we use tf.nn.softmax_cross_entropy_with_logits on the raw\n",
    "# outputs of 'y', and then average across the batch.\n",
    "#cross_entropy = tf.reduce_mean(tf.nn.softmax_cross_entropy_with_logits(labels=y_one_hot, logits=y))\n",
    "cross_entropy = tf.reduce_mean(tf.nn.sparse_softmax_cross_entropy_with_logits(logits=y,labels=y_))\n",
    "\n",
    "## Minimizing Cross entropy\n",
    "train_step = tf.train.GradientDescentOptimizer(0.05).minimize(cross_entropy)"
   ]
  },
  {
   "cell_type": "code",
   "execution_count": 51,
   "metadata": {},
   "outputs": [
    {
     "name": "stdout",
     "output_type": "stream",
     "text": [
      "0.31806\n"
     ]
    }
   ],
   "source": [
    "## Interactive Session\n",
    "sess = tf.InteractiveSession()\n",
    "\n",
    "## Initialize the variables\n",
    "tf.global_variables_initializer().run()\n",
    "for _ in range(1000):\n",
    "    sess.run(train_step,feed_dict={x:cifar_data,y_:labels})\n",
    "\n",
    "#correct_prediction = tf.equal(tf.argmax(y, 1), tf.argmax(y_one_hot, 1))\n",
    "z = tf.to_int64(y_)\n",
    "correct_prediction = tf.equal(tf.argmax(y, 1), z)\n",
    "accuracy = tf.reduce_mean(tf.cast(correct_prediction, tf.float32))\n",
    "print(sess.run(accuracy, feed_dict={x: cifar_data,\n",
    "                                      y_:labels}))"
   ]
  },
  {
   "cell_type": "markdown",
   "metadata": {},
   "source": [
    "## Softmax CIFAR-10"
   ]
  },
  {
   "cell_type": "code",
   "execution_count": 246,
   "metadata": {},
   "outputs": [
    {
     "ename": "ImportError",
     "evalue": "No module named 'data_helpers'",
     "output_type": "error",
     "traceback": [
      "\u001b[1;31m---------------------------------------------------------------------------\u001b[0m",
      "\u001b[1;31mImportError\u001b[0m                               Traceback (most recent call last)",
      "\u001b[1;32m<ipython-input-246-7ff438c401a6>\u001b[0m in \u001b[0;36m<module>\u001b[1;34m()\u001b[0m\n\u001b[0;32m      8\u001b[0m \u001b[1;32mimport\u001b[0m \u001b[0mtensorflow\u001b[0m \u001b[1;32mas\u001b[0m \u001b[0mtf\u001b[0m\u001b[1;33m\u001b[0m\u001b[0m\n\u001b[0;32m      9\u001b[0m \u001b[1;32mimport\u001b[0m \u001b[0mtime\u001b[0m\u001b[1;33m\u001b[0m\u001b[0m\n\u001b[1;32m---> 10\u001b[1;33m \u001b[1;32mimport\u001b[0m \u001b[0mdata_helpers\u001b[0m\u001b[1;33m\u001b[0m\u001b[0m\n\u001b[0m\u001b[0;32m     11\u001b[0m \u001b[1;33m\u001b[0m\u001b[0m\n\u001b[0;32m     12\u001b[0m \u001b[0mbeginTime\u001b[0m \u001b[1;33m=\u001b[0m \u001b[0mtime\u001b[0m\u001b[1;33m.\u001b[0m\u001b[0mtime\u001b[0m\u001b[1;33m(\u001b[0m\u001b[1;33m)\u001b[0m\u001b[1;33m\u001b[0m\u001b[0m\n",
      "\u001b[1;31mImportError\u001b[0m: No module named 'data_helpers'"
     ]
    }
   ],
   "source": [
    "'''Softmax-Classifier for CIFAR-10'''\n",
    "\n",
    "from __future__ import absolute_import\n",
    "from __future__ import division\n",
    "from __future__ import print_function\n",
    "\n",
    "import numpy as np\n",
    "import tensorflow as tf\n",
    "import time\n",
    "import data_helpers\n",
    "\n",
    "beginTime = time.time()\n",
    "\n",
    "# Parameter definitions\n",
    "batch_size = 100\n",
    "learning_rate = 0.005\n",
    "max_steps = 1000\n",
    "\n",
    "# Uncommenting this line removes randomness\n",
    "# You'll get exactly the same result on each run\n",
    "# np.random.seed(1)\n",
    "\n",
    "# Prepare data\n",
    "data_sets = data_helpers.load_data()\n",
    "\n",
    "# -----------------------------------------------------------------------------\n",
    "# Prepare the TensorFlow graph\n",
    "# (We're only defining the graph here, no actual calculations taking place)\n",
    "# -----------------------------------------------------------------------------\n",
    "\n",
    "# Define input placeholders\n",
    "images_placeholder = tf.placeholder(tf.float32, shape=[None, 3072])\n",
    "labels_placeholder = tf.placeholder(tf.int64, shape=[None])\n",
    "\n",
    "# Define variables (these are the values we want to optimize)\n",
    "weights = tf.Variable(tf.zeros([3072, 10]))\n",
    "biases = tf.Variable(tf.zeros([10]))\n",
    "\n",
    "# Define the classifier's result\n",
    "logits = tf.matmul(images_placeholder, weights) + biases\n",
    "\n",
    "# Define the loss function\n",
    "loss = tf.reduce_mean(tf.nn.sparse_softmax_cross_entropy_with_logits(logits=logits,\n",
    "  labels=labels_placeholder))\n",
    "\n",
    "# Define the training operation\n",
    "train_step = tf.train.GradientDescentOptimizer(learning_rate).minimize(loss)\n",
    "\n",
    "# Operation comparing prediction with true label\n",
    "correct_prediction = tf.equal(tf.argmax(logits, 1), labels_placeholder)\n",
    "\n",
    "# Operation calculating the accuracy of our predictions\n",
    "accuracy = tf.reduce_mean(tf.cast(correct_prediction, tf.float32))\n",
    "\n",
    "# -----------------------------------------------------------------------------\n",
    "# Run the TensorFlow graph\n",
    "# -----------------------------------------------------------------------------\n",
    "\n",
    "with tf.Session() as sess:\n",
    "  # Initialize variables\n",
    "  sess.run(tf.global_variables_initializer())\n",
    "\n",
    "  # Repeat max_steps times\n",
    "  for i in range(max_steps):\n",
    "\n",
    "    # Generate input data batch\n",
    "    indices = np.random.choice(data_sets['images_train'].shape[0], batch_size)\n",
    "    images_batch = data_sets['images_train'][indices]\n",
    "    labels_batch = data_sets['labels_train'][indices]\n",
    "\n",
    "    # Periodically print out the model's current accuracy\n",
    "    if i % 100 == 0:\n",
    "      train_accuracy = sess.run(accuracy, feed_dict={\n",
    "        images_placeholder: images_batch, labels_placeholder: labels_batch})\n",
    "      print('Step {:5d}: training accuracy {:g}'.format(i, train_accuracy))\n",
    "\n",
    "    # Perform a single training step\n",
    "    sess.run(train_step, feed_dict={images_placeholder: images_batch,\n",
    "      labels_placeholder: labels_batch})\n",
    "\n",
    "  # After finishing the training, evaluate on the test set\n",
    "  test_accuracy = sess.run(accuracy, feed_dict={\n",
    "    images_placeholder: data_sets['images_test'],\n",
    "    labels_placeholder: data_sets['labels_test']})\n",
    "  print('Test accuracy {:g}'.format(test_accuracy))\n",
    "\n",
    "endTime = time.time()\n",
    "print('Total time: {:5.2f}s'.format(endTime - beginTime))"
   ]
  },
  {
   "cell_type": "code",
   "execution_count": 258,
   "metadata": {
    "collapsed": true
   },
   "outputs": [],
   "source": [
    "train_step.get_attr??"
   ]
  },
  {
   "cell_type": "code",
   "execution_count": null,
   "metadata": {
    "collapsed": true
   },
   "outputs": [],
   "source": []
  }
 ],
 "metadata": {
  "kernelspec": {
   "display_name": "Python 3",
   "language": "python",
   "name": "python3"
  },
  "language_info": {
   "codemirror_mode": {
    "name": "ipython",
    "version": 3
   },
   "file_extension": ".py",
   "mimetype": "text/x-python",
   "name": "python",
   "nbconvert_exporter": "python",
   "pygments_lexer": "ipython3",
   "version": "3.5.3"
  }
 },
 "nbformat": 4,
 "nbformat_minor": 2
}
