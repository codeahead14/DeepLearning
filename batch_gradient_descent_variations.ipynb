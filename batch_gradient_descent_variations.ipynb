{
 "cells": [
  {
   "cell_type": "markdown",
   "metadata": {},
   "source": [
    "# Batch Gradient Descent Variations\n",
    "This Notebook provides scratch implementations of various batch gradient descent variations over MNIST Dataset.\n",
    "Before jumping to tools such as Tensorflow and Theano, getting a gist of how various strategies perform is really\n",
    "important and this notebook allows the user to run several experiments on a small neural network with one hidden layer.\n",
    "\n",
    "A simple two layer neural network has been utilised in these implementations.\n",
    "\n",
    "1. Stochastic Gradient Descent\n",
    "2. Stochastic Gradient Descent with Momentum\n",
    "\n",
    "Coming Soon\n",
    "1. Stochastic Gradient Descent with Nesterov Momentum\n",
    "2. Accelerated Gradient Descent"
   ]
  },
  {
   "cell_type": "code",
   "execution_count": 1,
   "metadata": {
    "collapsed": true
   },
   "outputs": [],
   "source": [
    "import cPickle\n",
    "import numpy as np\n",
    "import matplotlib.pyplot as plt\n",
    "from IPython.display import display, Image\n",
    "from scipy import ndimage\n",
    "from sklearn import preprocessing\n",
    "\n",
    "# Config the matlotlib backend as plotting inline in IPython\n",
    "%matplotlib inline"
   ]
  },
  {
   "cell_type": "code",
   "execution_count": 2,
   "metadata": {
    "collapsed": true
   },
   "outputs": [],
   "source": [
    "with open(\"Datasets\\mnist.pkl\",'rb') as mnist_file:\n",
    "    train_data,valid_data,test_data = cPickle.load(mnist_file)"
   ]
  },
  {
   "cell_type": "code",
   "execution_count": 3,
   "metadata": {},
   "outputs": [
    {
     "name": "stdout",
     "output_type": "stream",
     "text": [
      "3\n"
     ]
    },
    {
     "data": {
      "image/png": "[encoded data removed]",
      "text/plain": [
       "<matplotlib.figure.Figure at 0x6b7ec18>"
      ]
     },
     "metadata": {},
     "output_type": "display_data"
    }
   ],
   "source": [
    "## In this block we are shuffling the data to avoid any classification bias\n",
    "train_vec_in,train_label_out = train_data\n",
    "permutation = np.random.permutation(train_vec_in.shape[0])\n",
    "train_vec_in = train_vec_in[permutation,:]\n",
    "train_reshape = np.reshape(train_vec_in,newshape=[50000,28,28])\n",
    "train_label_out = train_label_out[permutation]\n",
    "\n",
    "plt.imshow(train_reshape[3],cmap='gray')\n",
    "print train_label_out[3]"
   ]
  },
  {
   "cell_type": "code",
   "execution_count": 4,
   "metadata": {
    "collapsed": true
   },
   "outputs": [],
   "source": [
    "valid_features,valid_labels = valid_data\n",
    "test_features,test_labels = test_data"
   ]
  },
  {
   "cell_type": "code",
   "execution_count": 5,
   "metadata": {
    "collapsed": true
   },
   "outputs": [],
   "source": [
    "def confusion_matrix(predicted_outcome,labels):\n",
    "    classes = set(labels)\n",
    "    num_classes = len(classes)\n",
    "    conf_mat = np.zeros((num_classes,num_classes))\n",
    "    for i in classes:\n",
    "        for j in classes:\n",
    "            conf_mat[i,j] = len(np.where((labels == i) & (predicted_outcome == j))[0])\n",
    "    \n",
    "    false_positives = np.sum(conf_mat,axis=0)\n",
    "    false_negatives = np.sum(conf_mat,axis=1)\n",
    "    precision = np.array([conf_mat[i,i]/false_positives[i] for i in range(10)])\n",
    "    recall = np.array([conf_mat[i,i]/false_negatives[i] for i in range(10)])\n",
    "    return precision,recall"
   ]
  },
  {
   "cell_type": "code",
   "execution_count": 6,
   "metadata": {
    "collapsed": true
   },
   "outputs": [],
   "source": [
    "def smoothing(x,win_sz=30):\n",
    "    smoothing_window = np.ones(win_sz)/win_sz\n",
    "    smooth_func = np.convolve(x,smoothing_window)\n",
    "    return smooth_func[:-win_sz]"
   ]
  },
  {
   "cell_type": "markdown",
   "metadata": {},
   "source": [
    "## Two-layer NN with SGD over MNIST"
   ]
  },
  {
   "cell_type": "code",
   "execution_count": 7,
   "metadata": {
    "collapsed": true
   },
   "outputs": [],
   "source": [
    "def two_layer_nn_sgd(features,labels,valid_features,valid_labels,hidden_sz=100, \\\n",
    "                     batch_size=200,epoch=10,lamda=0.001,step_size=1,max_iter=100):\n",
    "    features_dim= np.shape(features)\n",
    "    classes = set(labels)\n",
    "    coeff_1 = 0.01 * np.random.randn(features_dim[1],hidden_sz)/(np.sqrt(features_dim[1]))\n",
    "    coeff_2 = 0.01 * np.random.randn(hidden_sz,len(classes))/(np.sqrt(hidden_sz))\n",
    "\n",
    "    tot_cost,train_accuracy,valid_accuracy = [],[],[]\n",
    "    coeff1_dim = np.shape(coeff_1)    \n",
    "    coeff2_dim = np.shape(coeff_2)\n",
    "    bias_1 = 0.01 * np.random.randn(1,coeff1_dim[1])\n",
    "    bias_2 = 0.01 * np.random.randn(1,coeff2_dim[1])\n",
    "\n",
    "    model = {}\n",
    "\n",
    "    print 'Training model for batch_size:%d, lamda:%.4f, and step_size: %.4f' % (batch_size,lamda,step_size)\n",
    "    num_batches = features_dim[0]/batch_size\n",
    "    \n",
    "    for _ in xrange(epoch):\n",
    "        for i in xrange(num_batches):\n",
    "            batch_features = features[i*batch_size:(i+1)*batch_size]\n",
    "            batch_dim = np.shape(batch_features)\n",
    "            batch_labels = labels[i*batch_size:(i+1)*batch_size]\n",
    "            batch_labels_dim = np.shape(batch_labels)\n",
    "            \n",
    "            #### Layer - 1 ####\n",
    "            reLU = np.maximum(0,np.dot(batch_features,coeff_1) + bias_1)   # reLU - shape (Nxh)\n",
    "\n",
    "            ## with max-equalization ##\n",
    "            l2_scores = np.transpose(np.dot(reLU,coeff_2) + bias_2) # [KxN]\n",
    "            l2_scores_max = np.max(l2_scores,axis=0) # [1xN]\n",
    "            exp_scores = np.exp(l2_scores-l2_scores_max)\n",
    "            probs_scores = exp_scores/np.sum(exp_scores,axis=0,keepdims=True)  # probs - shape(KxN)\n",
    "            \n",
    "            ## Loss computation\n",
    "            tot_cost.append(-np.sum(probs_scores[batch_labels,range(batch_dim[0])])/batch_dim[0])\n",
    "        \n",
    "            # backpropagation\n",
    "            probs = np.transpose(probs_scores) # shape - NxK\n",
    "            probs[range(batch_dim[0]),batch_labels] -= 1\n",
    "            probs /= batch_dim[0]\n",
    "\n",
    "            dcoeff_2 = np.dot(reLU.T,probs)   # dcoeff_2 - shape(hxK)\n",
    "            dbias_2 = np.sum(probs, axis=0, keepdims=True)\n",
    "            dhidden_layer = np.dot(probs,coeff_2.T)   # dhidden - shape(Nxh)\n",
    "            dhidden_layer[reLU <= 0] = 0\n",
    "            dcoeff_1 = np.dot(batch_features.T,dhidden_layer)\n",
    "            dbias_1 = np.sum(dhidden_layer, axis=0, keepdims=True)\n",
    "\n",
    "            coeff_2 += -step_size*(dcoeff_2 + lamda*coeff_2)  # coeff_2 - shape(hxK)\n",
    "            coeff_1 += -step_size*(dcoeff_1 + lamda*coeff_1)  # coeff_1 - shape(Dxh)\n",
    "            bias_1 += -step_size * dbias_1\n",
    "            bias_2 += -step_size * dbias_2\n",
    "            \n",
    "            ## Runtime Accuracy - Training and Validation \n",
    "            hidden_layer_train = np.maximum(0,np.dot(features,coeff_1)+bias_1)\n",
    "            scores_train = np.dot(hidden_layer_train,coeff_2)+bias_2\n",
    "            predicted_class_train = np.argmax(scores_train, axis=1)\n",
    "            train_accuracy.append(np.mean(predicted_class_train == labels))\n",
    "        \n",
    "            hidden_layer_valid = np.maximum(0,np.dot(valid_features,coeff_1)+bias_1)\n",
    "            scores_valid = np.dot(hidden_layer_valid,coeff_2)+bias_2\n",
    "            predicted_class_valid = np.argmax(scores_valid,axis=1)\n",
    "            valid_accuracy.append(np.mean(predicted_class_valid == valid_labels))\n",
    "        \n",
    "    ##### Training Data accuracy #####\n",
    "    hidden_layer_train = np.maximum(0,np.dot(features,coeff_1)+bias_1)\n",
    "    scores_train = np.dot(hidden_layer_train,coeff_2)+bias_2\n",
    "    predicted_class_train = np.argmax(scores_train, axis=1)\n",
    "    print 'training accuracy: %.4f' % (np.mean(predicted_class_train == labels))\n",
    "    precision_train,recall_train = confusion_matrix(predicted_class_train,labels)\n",
    "    print 'training mean precision: %.4f, mean recall: %.4f' % (np.mean(precision_train),np.mean(recall_train))\n",
    "\n",
    "    ##### Validation Data accuracy #####\n",
    "    hidden_layer_valid = np.maximum(0,np.dot(valid_features,coeff_1)+bias_1)\n",
    "    scores_valid = np.dot(hidden_layer_valid,coeff_2)+bias_2\n",
    "    predicted_class_valid = np.argmax(scores_valid,axis=1)\n",
    "    print 'validation accuracy: %.4f' % (np.mean(predicted_class_valid == valid_labels))\n",
    "    precision_valid,recall_valid = confusion_matrix(predicted_class_valid,valid_labels)\n",
    "    print 'validation mean precision: %.4f, mean recall: %.4f' % (np.mean(precision_valid),np.mean(recall_valid))   \n",
    "    \n",
    "    model['coeffs_l1'] = coeff_1\n",
    "    model['bias_l1'] = bias_1\n",
    "    model['coeffs_l2'] = coeff_2\n",
    "    model['bias_l2'] = bias_2 \n",
    "    model['train_accuracy'] = train_accuracy\n",
    "    model['valid_accuracy'] = valid_accuracy\n",
    "    model['tot_cost'] = tot_cost   \n",
    "        \n",
    "    return model"
   ]
  },
  {
   "cell_type": "code",
   "execution_count": 8,
   "metadata": {},
   "outputs": [
    {
     "name": "stdout",
     "output_type": "stream",
     "text": [
      "Training model for batch_size:50, lamda:0.0001, and step_size: 0.7500\n",
      "training accuracy: 0.9851\n",
      "training mean precision: 0.9852, mean recall: 0.9850\n",
      "validation accuracy: 0.9690\n",
      "validation mean precision: 0.9692, mean recall: 0.9689\n",
      "test accuracy: 0.9693\n",
      "test mean precision: 0.9694, mean recall: 0.9692\n"
     ]
    }
   ],
   "source": [
    "model_sgd = two_layer_nn_sgd(train_vec_in,train_label_out, \\\n",
    "                                                valid_features,valid_labels,batch_size=50, \\\n",
    "                                           epoch=20,hidden_sz=100,lamda=0.0001,step_size=0.75,max_iter=1000)\n",
    "\n",
    "##### Test Data accuracy #####\n",
    "hidden_layer_test = np.maximum(0,np.dot(test_features,model_sgd['coeffs_l1'])+model_sgd['bias_l1'])\n",
    "scores_test = np.dot(hidden_layer_test,model_sgd['coeffs_l2'])+model_sgd['bias_l2']\n",
    "predicted_class_test = np.argmax(scores_test,axis=1)\n",
    "print 'test accuracy: %.4f' % (np.mean(predicted_class_test == test_labels))\n",
    "precision_test,recall_test= confusion_matrix(predicted_class_test,test_labels)\n",
    "print 'test mean precision: %.4f, mean recall: %.4f' % (np.mean(precision_test),np.mean(recall_test))"
   ]
  },
  {
   "cell_type": "code",
   "execution_count": null,
   "metadata": {
    "collapsed": true
   },
   "outputs": [],
   "source": []
  },
  {
   "cell_type": "markdown",
   "metadata": {},
   "source": [
    "### SGD with Momentum"
   ]
  },
  {
   "cell_type": "code",
   "execution_count": 9,
   "metadata": {
    "collapsed": true
   },
   "outputs": [],
   "source": [
    "def two_layer_nn_sgd_momentum(features,labels,valid_features,valid_labels,hidden_sz=100, \\\n",
    "                     batch_size=200,epoch=10,lamda=0.001,step_size=1,max_iter=100):\n",
    "    features_dim= np.shape(features)\n",
    "    classes = set(labels)\n",
    "    coeff_1 = 0.01 * np.random.randn(features_dim[1],hidden_sz)/(np.sqrt(features_dim[1]))\n",
    "    coeff_2 = 0.01 * np.random.randn(hidden_sz,len(classes))/(np.sqrt(hidden_sz))\n",
    "    \n",
    "    ## Momentum update parameters\n",
    "    mu_list = [0.5,0.9,0.95,0.99]\n",
    "    v_1 = np.zeros((features_dim[1],hidden_sz))\n",
    "    v_2 = np.zeros((hidden_sz,len(classes)))\n",
    "\n",
    "    tot_cost,train_accuracy,valid_accuracy = [],[],[]\n",
    "    coeff1_dim = np.shape(coeff_1)    \n",
    "    coeff2_dim = np.shape(coeff_2)\n",
    "    bias_1 = 0.01 * np.random.randn(1,coeff1_dim[1])\n",
    "    bias_2 = 0.01 * np.random.randn(1,coeff2_dim[1])\n",
    "    model = {}\n",
    "    \n",
    "    print 'Training model for batch_size:%d, lamda:%.4f, and step_size: %.4f' % (batch_size,lamda,step_size)\n",
    "    num_batches = features_dim[0]/batch_size\n",
    "    \n",
    "    for _ in xrange(epoch):\n",
    "        for i in xrange(num_batches):\n",
    "            batch_features = features[i*batch_size:(i+1)*batch_size]\n",
    "            batch_dim = np.shape(batch_features)\n",
    "            batch_labels = labels[i*batch_size:(i+1)*batch_size]\n",
    "            batch_labels_dim = np.shape(batch_labels)\n",
    "            \n",
    "            #### Layer - 1 ####\n",
    "            reLU = np.maximum(0,np.dot(batch_features,coeff_1) + bias_1)   # reLU - shape (Nxh)\n",
    "\n",
    "            ## with max-equalization ##\n",
    "            l2_scores = np.transpose(np.dot(reLU,coeff_2) + bias_2) # [KxN]\n",
    "            l2_scores_max = np.max(l2_scores,axis=0) # [1xN]\n",
    "            exp_scores = np.exp(l2_scores-l2_scores_max)\n",
    "            probs_scores = exp_scores/np.sum(exp_scores,axis=0,keepdims=True)  # probs - shape(KxN)\n",
    "            \n",
    "            ## Loss computation\n",
    "            tot_cost.append(-np.sum(probs_scores[batch_labels,range(batch_dim[0])])/batch_dim[0])\n",
    "        \n",
    "            # backpropagation\n",
    "            probs = np.transpose(probs_scores) # shape - NxK\n",
    "            probs[range(batch_dim[0]),batch_labels] -= 1\n",
    "            probs /= batch_dim[0]\n",
    "\n",
    "            dcoeff_2 = np.dot(reLU.T,probs)   # dcoeff_2 - shape(hxK)\n",
    "            dbias_2 = np.sum(probs, axis=0, keepdims=True)\n",
    "            dhidden_layer = np.dot(probs,coeff_2.T)   # dhidden - shape(Nxh)\n",
    "            dhidden_layer[reLU <= 0] = 0\n",
    "            dcoeff_1 = np.dot(batch_features.T,dhidden_layer)\n",
    "            dbias_1 = np.sum(dhidden_layer, axis=0, keepdims=True)\n",
    "\n",
    "            v_2 = mu_list[0]*v_2 - (step_size*(dcoeff_2 + lamda*coeff_2))\n",
    "            coeff_2 += v_2    \n",
    "            bias_2 += -step_size * dbias_2\n",
    "            \n",
    "            v_1 = mu_list[0]*v_1 - (step_size*(dcoeff_1 + lamda*coeff_1))\n",
    "            coeff_1 += v_1\n",
    "            bias_1 += -step_size * dbias_1\n",
    "            \n",
    "            hidden_layer_train = np.maximum(0,np.dot(features,coeff_1)+bias_1)\n",
    "            scores_train = np.dot(hidden_layer_train,coeff_2)+bias_2\n",
    "            predicted_class_train = np.argmax(scores_train, axis=1)\n",
    "            train_accuracy.append(np.mean(predicted_class_train == labels))\n",
    "        \n",
    "            hidden_layer_valid = np.maximum(0,np.dot(valid_features,coeff_1)+bias_1)\n",
    "            scores_valid = np.dot(hidden_layer_valid,coeff_2)+bias_2\n",
    "            predicted_class_valid = np.argmax(scores_valid,axis=1)\n",
    "            valid_accuracy.append(np.mean(predicted_class_valid == valid_labels))\n",
    "        \n",
    "    ##### Training Data accuracy #####\n",
    "    hidden_layer_train = np.maximum(0,np.dot(features,coeff_1)+bias_1)\n",
    "    scores_train = np.dot(hidden_layer_train,coeff_2)+bias_2\n",
    "    predicted_class_train = np.argmax(scores_train, axis=1)\n",
    "    print 'training accuracy: %.4f' % (np.mean(predicted_class_train == labels))\n",
    "    precision_train,recall_train = confusion_matrix(predicted_class_train,labels)\n",
    "    print 'training mean precision: %.4f, mean recall: %.4f' % (np.mean(precision_train),np.mean(recall_train))\n",
    "\n",
    "    ##### Validation Data accuracy #####\n",
    "    hidden_layer_valid = np.maximum(0,np.dot(valid_features,coeff_1)+bias_1)\n",
    "    scores_valid = np.dot(hidden_layer_valid,coeff_2)+bias_2\n",
    "    predicted_class_valid = np.argmax(scores_valid,axis=1)\n",
    "    print 'validation accuracy: %.4f' % (np.mean(predicted_class_valid == valid_labels))\n",
    "    precision_valid,recall_valid = confusion_matrix(predicted_class_valid,valid_labels)\n",
    "    print 'validation mean precision: %.4f, mean recall: %.4f' % (np.mean(precision_valid),np.mean(recall_valid))   \n",
    "    \n",
    "    model['coeffs_l1'] = coeff_1\n",
    "    model['bias_l1'] = bias_1\n",
    "    model['coeffs_l2'] = coeff_2\n",
    "    model['bias_l2'] = bias_2 \n",
    "    model['train_accuracy'] = train_accuracy\n",
    "    model['tot_cost'] = tot_cost    \n",
    "    \n",
    "    return model"
   ]
  },
  {
   "cell_type": "code",
   "execution_count": 10,
   "metadata": {},
   "outputs": [
    {
     "name": "stdout",
     "output_type": "stream",
     "text": [
      "Training model for batch_size:200, lamda:0.0001, and step_size: 0.7500\n",
      "training accuracy: 0.9903\n",
      "training mean precision: 0.9905, mean recall: 0.9901\n",
      "validation accuracy: 0.9702\n",
      "validation mean precision: 0.9707, mean recall: 0.9699\n",
      "test accuracy: 0.9710\n",
      "test mean precision: 0.9714, mean recall: 0.9707\n"
     ]
    }
   ],
   "source": [
    "model_sgd_momentum = two_layer_nn_sgd_momentum(train_vec_in,train_label_out,\n",
    "                          valid_features,valid_labels,epoch=20,hidden_sz=100,lamda=0.0001,step_size=0.75,max_iter=1000)\n",
    "\n",
    "##### Test Data accuracy #####\n",
    "hidden_layer_test = np.maximum(0,np.dot(test_features,model_sgd_momentum['coeffs_l1'])+model_sgd_momentum['bias_l1'])\n",
    "scores_test = np.dot(hidden_layer_test,model_sgd_momentum['coeffs_l2'])+model_sgd_momentum['bias_l2']\n",
    "predicted_class_test = np.argmax(scores_test,axis=1)\n",
    "print 'test accuracy: %.4f' % (np.mean(predicted_class_test == test_labels))\n",
    "precision_test,recall_test= confusion_matrix(predicted_class_test,test_labels)\n",
    "print 'test mean precision: %.4f, mean recall: %.4f' % (np.mean(precision_test),np.mean(recall_test))"
   ]
  },
  {
   "cell_type": "code",
   "execution_count": 15,
   "metadata": {},
   "outputs": [
    {
     "data": {
      "image/png": "[encoded data removed]",
      "text/plain": [
       "<matplotlib.figure.Figure at 0x33b9e0f0>"
      ]
     },
     "metadata": {},
     "output_type": "display_data"
    }
   ],
   "source": [
    "## Plots for Training accuracy for both the models\n",
    "\n",
    "plt.plot(smoothing(model_sgd['train_accuracy'])[0:250],'r')\n",
    "plt.plot(smoothing(model_sgd_momentum['train_accuracy'])[0:250],'b')\n",
    "plt.show()"
   ]
  },
  {
   "cell_type": "code",
   "execution_count": null,
   "metadata": {
    "collapsed": true
   },
   "outputs": [],
   "source": []
  }
 ],
 "metadata": {
  "kernelspec": {
   "display_name": "Python 3",
   "language": "python",
   "name": "python3"
  },
  "language_info": {
   "codemirror_mode": {
    "name": "ipython",
    "version": 3
   },
   "file_extension": ".py",
   "mimetype": "text/x-python",
   "name": "python",
   "nbconvert_exporter": "python",
   "pygments_lexer": "ipython3",
   "version": "3.5.3"
  }
 },
 "nbformat": 4,
 "nbformat_minor": 2
}
